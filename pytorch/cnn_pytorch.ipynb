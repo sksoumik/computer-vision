{
 "nbformat": 4,
 "nbformat_minor": 2,
 "metadata": {
  "language_info": {
   "name": "python",
   "codemirror_mode": {
    "name": "ipython",
    "version": 3
   },
   "version": "3.7.4"
  },
  "orig_nbformat": 2,
  "file_extension": ".py",
  "mimetype": "text/x-python",
  "name": "python",
  "npconvert_exporter": "python",
  "pygments_lexer": "ipython3",
  "version": 3
 },
 "cells": [
  {
   "cell_type": "code",
   "execution_count": 70,
   "metadata": {},
   "outputs": [],
   "source": [
    "import torch\n",
    "import torchvision\n",
    "import pandas as pd\n",
    "from torchvision.transforms import transforms\n",
    "from torch.autograd import Variable\n",
    "from sklearn.model_selection import train_test_split\n",
    "import numpy as np\n",
    "import matplotlib.pyplot as plt\n",
    "import torch.nn as nn"
   ]
  },
  {
   "cell_type": "code",
   "execution_count": 71,
   "metadata": {},
   "outputs": [],
   "source": [
    "train = pd.read_csv('input/digit_kaggle/train.csv')"
   ]
  },
  {
   "cell_type": "code",
   "execution_count": 72,
   "metadata": {},
   "outputs": [
    {
     "data": {
      "text/html": "<div>\n<style scoped>\n    .dataframe tbody tr th:only-of-type {\n        vertical-align: middle;\n    }\n\n    .dataframe tbody tr th {\n        vertical-align: top;\n    }\n\n    .dataframe thead th {\n        text-align: right;\n    }\n</style>\n<table border=\"1\" class=\"dataframe\">\n  <thead>\n    <tr style=\"text-align: right;\">\n      <th></th>\n      <th>label</th>\n      <th>pixel0</th>\n      <th>pixel1</th>\n      <th>pixel2</th>\n      <th>pixel3</th>\n      <th>pixel4</th>\n      <th>pixel5</th>\n      <th>pixel6</th>\n      <th>pixel7</th>\n      <th>pixel8</th>\n      <th>...</th>\n      <th>pixel774</th>\n      <th>pixel775</th>\n      <th>pixel776</th>\n      <th>pixel777</th>\n      <th>pixel778</th>\n      <th>pixel779</th>\n      <th>pixel780</th>\n      <th>pixel781</th>\n      <th>pixel782</th>\n      <th>pixel783</th>\n    </tr>\n  </thead>\n  <tbody>\n    <tr>\n      <td>0</td>\n      <td>1</td>\n      <td>0</td>\n      <td>0</td>\n      <td>0</td>\n      <td>0</td>\n      <td>0</td>\n      <td>0</td>\n      <td>0</td>\n      <td>0</td>\n      <td>0</td>\n      <td>...</td>\n      <td>0</td>\n      <td>0</td>\n      <td>0</td>\n      <td>0</td>\n      <td>0</td>\n      <td>0</td>\n      <td>0</td>\n      <td>0</td>\n      <td>0</td>\n      <td>0</td>\n    </tr>\n    <tr>\n      <td>1</td>\n      <td>0</td>\n      <td>0</td>\n      <td>0</td>\n      <td>0</td>\n      <td>0</td>\n      <td>0</td>\n      <td>0</td>\n      <td>0</td>\n      <td>0</td>\n      <td>0</td>\n      <td>...</td>\n      <td>0</td>\n      <td>0</td>\n      <td>0</td>\n      <td>0</td>\n      <td>0</td>\n      <td>0</td>\n      <td>0</td>\n      <td>0</td>\n      <td>0</td>\n      <td>0</td>\n    </tr>\n    <tr>\n      <td>2</td>\n      <td>1</td>\n      <td>0</td>\n      <td>0</td>\n      <td>0</td>\n      <td>0</td>\n      <td>0</td>\n      <td>0</td>\n      <td>0</td>\n      <td>0</td>\n      <td>0</td>\n      <td>...</td>\n      <td>0</td>\n      <td>0</td>\n      <td>0</td>\n      <td>0</td>\n      <td>0</td>\n      <td>0</td>\n      <td>0</td>\n      <td>0</td>\n      <td>0</td>\n      <td>0</td>\n    </tr>\n    <tr>\n      <td>3</td>\n      <td>4</td>\n      <td>0</td>\n      <td>0</td>\n      <td>0</td>\n      <td>0</td>\n      <td>0</td>\n      <td>0</td>\n      <td>0</td>\n      <td>0</td>\n      <td>0</td>\n      <td>...</td>\n      <td>0</td>\n      <td>0</td>\n      <td>0</td>\n      <td>0</td>\n      <td>0</td>\n      <td>0</td>\n      <td>0</td>\n      <td>0</td>\n      <td>0</td>\n      <td>0</td>\n    </tr>\n    <tr>\n      <td>4</td>\n      <td>0</td>\n      <td>0</td>\n      <td>0</td>\n      <td>0</td>\n      <td>0</td>\n      <td>0</td>\n      <td>0</td>\n      <td>0</td>\n      <td>0</td>\n      <td>0</td>\n      <td>...</td>\n      <td>0</td>\n      <td>0</td>\n      <td>0</td>\n      <td>0</td>\n      <td>0</td>\n      <td>0</td>\n      <td>0</td>\n      <td>0</td>\n      <td>0</td>\n      <td>0</td>\n    </tr>\n  </tbody>\n</table>\n<p>5 rows × 785 columns</p>\n</div>",
      "text/plain": "   label  pixel0  pixel1  pixel2  pixel3  pixel4  pixel5  pixel6  pixel7  \\\n0      1       0       0       0       0       0       0       0       0   \n1      0       0       0       0       0       0       0       0       0   \n2      1       0       0       0       0       0       0       0       0   \n3      4       0       0       0       0       0       0       0       0   \n4      0       0       0       0       0       0       0       0       0   \n\n   pixel8  ...  pixel774  pixel775  pixel776  pixel777  pixel778  pixel779  \\\n0       0  ...         0         0         0         0         0         0   \n1       0  ...         0         0         0         0         0         0   \n2       0  ...         0         0         0         0         0         0   \n3       0  ...         0         0         0         0         0         0   \n4       0  ...         0         0         0         0         0         0   \n\n   pixel780  pixel781  pixel782  pixel783  \n0         0         0         0         0  \n1         0         0         0         0  \n2         0         0         0         0  \n3         0         0         0         0  \n4         0         0         0         0  \n\n[5 rows x 785 columns]"
     },
     "execution_count": 72,
     "metadata": {},
     "output_type": "execute_result"
    }
   ],
   "source": [
    "train.head()"
   ]
  },
  {
   "cell_type": "code",
   "execution_count": 73,
   "metadata": {},
   "outputs": [],
   "source": [
    "target_np = train.label.values\n",
    "featues_np = train.loc[:, train.columns != 'label'].values/255"
   ]
  },
  {
   "cell_type": "code",
   "execution_count": null,
   "metadata": {},
   "outputs": [],
   "source": []
  },
  {
   "cell_type": "code",
   "execution_count": 74,
   "metadata": {},
   "outputs": [],
   "source": [
    "# features(train, test), targets(train, test)\n",
    "x_train, x_test, y_train, y_test = train_test_split(featues_np, target_np, test_size=0.2, random_state=42)"
   ]
  },
  {
   "cell_type": "code",
   "execution_count": 75,
   "metadata": {},
   "outputs": [],
   "source": [
    "# features\n",
    "x_train = torch.from_numpy(x_train)\n",
    "x_test = torch.from_numpy(x_test)\n",
    "\n",
    "# targets\n",
    "y_train = torch.from_numpy(y_train).type(torch.LongTensor)\n",
    "y_test = torch.from_numpy(y_test).type(torch.LongTensor)"
   ]
  },
  {
   "cell_type": "code",
   "execution_count": 76,
   "metadata": {},
   "outputs": [],
   "source": [
    "# batch size, epochs, iterations\n",
    "batch_size = 100\n",
    "num_iteration = 1000\n",
    "epochs = num_iteration / len(x_train / batch_size)\n",
    "epochs = int(epochs)"
   ]
  },
  {
   "cell_type": "code",
   "execution_count": 77,
   "metadata": {},
   "outputs": [],
   "source": [
    "# train and test set for pytorch\n",
    "train = torch.utils.data.TensorDataset(x_train, y_train)\n",
    "test = torch.utils.data.TensorDataset(x_test, y_test)"
   ]
  },
  {
   "cell_type": "code",
   "execution_count": 78,
   "metadata": {},
   "outputs": [],
   "source": [
    "# data loader\n",
    "train_loader = torch.utils.data.DataLoader(train, batch_size=batch_size, shuffle=False)\n",
    "test_loader = torch.utils.data.DataLoader(test, batch_size=batch_size, shuffle=False)"
   ]
  },
  {
   "cell_type": "code",
   "execution_count": 79,
   "metadata": {},
   "outputs": [
    {
     "data": {
      "image/png": "[encoded data removed]",
      "image/svg+xml": "<?xml version=\"1.0\" encoding=\"utf-8\" standalone=\"no\"?>\n<!DOCTYPE svg PUBLIC \"-//W3C//DTD SVG 1.1//EN\"\n  \"http://www.w3.org/Graphics/SVG/1.1/DTD/svg11.dtd\">\n<!-- Created with matplotlib (https://matplotlib.org/) -->\n<svg height=\"246.958125pt\" version=\"1.1\" viewBox=\"0 0 231.84 246.958125\" width=\"231.84pt\" xmlns=\"http://www.w3.org/2000/svg\" xmlns:xlink=\"http://www.w3.org/1999/xlink\">\n <defs>\n  <style type=\"text/css\">\n*{stroke-linecap:butt;stroke-linejoin:round;}\n  </style>\n </defs>\n <g id=\"figure_1\">\n  <g id=\"patch_1\">\n   <path d=\"M 0 246.958125 \nL 231.84 246.958125 \nL 231.84 0 \nL 0 0 \nz\n\" style=\"fill:none;\"/>\n  </g>\n  <g id=\"axes_1\">\n   <g clip-path=\"url(#pd9d4ba7c8a)\">\n    <image height=\"218\" id=\"imagedd0982849e\" transform=\"scale(1 -1)translate(0 -218)\" width=\"218\" x=\"7.2\" xlink:href=\"data:image/png;base64,\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\" y=\"-21.758125\"/>\n   </g>\n   <g id=\"text_1\">\n    <!-- 8 -->\n    <defs>\n     <path d=\"M 31.78125 34.625 \nQ 24.75 34.625 20.71875 30.859375 \nQ 16.703125 27.09375 16.703125 20.515625 \nQ 16.703125 13.921875 20.71875 10.15625 \nQ 24.75 6.390625 31.78125 6.390625 \nQ 38.8125 6.390625 42.859375 10.171875 \nQ 46.921875 13.96875 46.921875 20.515625 \nQ 46.921875 27.09375 42.890625 30.859375 \nQ 38.875 34.625 31.78125 34.625 \nz\nM 21.921875 38.8125 \nQ 15.578125 40.375 12.03125 44.71875 \nQ 8.5 49.078125 8.5 55.328125 \nQ 8.5 64.0625 14.71875 69.140625 \nQ 20.953125 74.21875 31.78125 74.21875 \nQ 42.671875 74.21875 48.875 69.140625 \nQ 55.078125 64.0625 55.078125 55.328125 \nQ 55.078125 49.078125 51.53125 44.71875 \nQ 48 40.375 41.703125 38.8125 \nQ 48.828125 37.15625 52.796875 32.3125 \nQ 56.78125 27.484375 56.78125 20.515625 \nQ 56.78125 9.90625 50.3125 4.234375 \nQ 43.84375 -1.421875 31.78125 -1.421875 \nQ 19.734375 -1.421875 13.25 4.234375 \nQ 6.78125 9.90625 6.78125 20.515625 \nQ 6.78125 27.484375 10.78125 32.3125 \nQ 14.796875 37.15625 21.921875 38.8125 \nz\nM 18.3125 54.390625 \nQ 18.3125 48.734375 21.84375 45.5625 \nQ 25.390625 42.390625 31.78125 42.390625 \nQ 38.140625 42.390625 41.71875 45.5625 \nQ 45.3125 48.734375 45.3125 54.390625 \nQ 45.3125 60.0625 41.71875 63.234375 \nQ 38.140625 66.40625 31.78125 66.40625 \nQ 25.390625 66.40625 21.84375 63.234375 \nQ 18.3125 60.0625 18.3125 54.390625 \nz\n\" id=\"DejaVuSans-56\"/>\n    </defs>\n    <g transform=\"translate(112.1025 16.318125)scale(0.12 -0.12)\">\n     <use xlink:href=\"#DejaVuSans-56\"/>\n    </g>\n   </g>\n  </g>\n </g>\n <defs>\n  <clipPath id=\"pd9d4ba7c8a\">\n   <rect height=\"217.44\" width=\"217.44\" x=\"7.2\" y=\"22.318125\"/>\n  </clipPath>\n </defs>\n</svg>\n",
      "text/plain": "<Figure size 432x288 with 1 Axes>"
     },
     "metadata": {
      "needs_background": "light"
     },
     "output_type": "display_data"
    }
   ],
   "source": [
    "plt.imshow(featues_np[10].reshape(28, 28))\n",
    "plt.axis(\"off\")\n",
    "plt.title(str(target_np[10]))\n",
    "plt.show()"
   ]
  },
  {
   "cell_type": "code",
   "execution_count": 91,
   "metadata": {},
   "outputs": [],
   "source": [
    "# CNN Model\n",
    "class CNNModel(nn.Module):\n",
    "    def __init__(self):\n",
    "        super(CNNModel, self).__init__()\n",
    "        # 1st conv layer\n",
    "        self.conv_1 = nn.Conv2d(in_channels=1, out_channels=16, kernel_size=5, stride=1, padding=0)\n",
    "        self.relu_1 = nn.ReLU()\n",
    "        self.maxpool_1 = nn.MaxPool2d(kernel_size=2)\n",
    "\n",
    "        # 2nd conv layer\n",
    "        self.conv_2 = nn.Conv2d(in_channels=16, out_channels=32, kernel_size=5, stride=1, padding=0)\n",
    "        self.relu_2 = nn.ReLU()\n",
    "        self.maxpool_2 = nn.MaxPool2d(kernel_size=2)\n",
    "\n",
    "        # 3rd conv layer\n",
    "        self.conv_3 = nn.Conv2d(in_channels=32, out_channels=64, kernel_size=5, stride=1, padding=0)\n",
    "        self.relu_3 = nn.ReLU()\n",
    "        self.maxpool_3 = nn.MaxPool2d(kernel_size=2)\n",
    "\n",
    "        # FC layer\n",
    "        self.fc_1 = nn.Linear(64 * 4 * 4, 10)\n",
    "\n",
    "    def forward(self, x):\n",
    "        out = self.conv_1(x)\n",
    "        out = self.relu_1(out)\n",
    "        out = self.maxpool_1(out)\n",
    "        out = self.conv_2(out)\n",
    "        out = self.relu_2(out)\n",
    "        out = self.maxpool_2(out)\n",
    "        out = self.conv_3(out)\n",
    "        out = self.relu_3(out)\n",
    "        out = self.maxpool_3(out)\n",
    "\n",
    "        out = out.view(out.size(0), -1) # flatten\n",
    "        out = self.fc_1(out)\n",
    "        return out\n",
    "\n",
    "        \n",
    "\n",
    "# instantiate the model, loss, and optimizer\n",
    "model = CNNModel()\n",
    "loss = nn.CrossEntropyLoss()\n",
    "learning_rate = 0.001\n",
    "optimizer = torch.optim.SGD(model.parameters(), lr=learning_rate)"
   ]
  },
  {
   "cell_type": "code",
   "execution_count": 87,
   "metadata": {},
   "outputs": [],
   "source": []
  },
  {
   "cell_type": "code",
   "execution_count": 92,
   "metadata": {},
   "outputs": [],
   "source": [
    "# CNN model training\n",
    "count = 0\n",
    "loss_list = []\n",
    "iteration_list = []\n",
    "accuracy_list = []\n",
    "for epoch in range(epochs):\n",
    "    for i, (images, labels) in enumerate(train_loader):\n",
    "        \n",
    "        train = Variable(images.view(100,1,28,28))\n",
    "        labels = Variable(labels)\n",
    "        \n",
    "        # Clear gradients\n",
    "        optimizer.zero_grad()\n",
    "        \n",
    "        # Forward propagation\n",
    "        outputs = model(train)\n",
    "        \n",
    "        # Calculate softmax and ross entropy loss\n",
    "        loss = loss(outputs, labels)\n",
    "        \n",
    "        # Calculating gradients\n",
    "        loss.backward()\n",
    "        \n",
    "        # Update parameters\n",
    "        optimizer.step()\n",
    "        count += 1\n",
    "        if count % 50 == 0:\n",
    "            # Calculate Accuracy         \n",
    "            correct = 0\n",
    "            total = 0\n",
    "            # Iterate through test dataset\n",
    "            for images, labels in test_loader:\n",
    "                \n",
    "                test = Variable(images.view(100,1,28,28))\n",
    "                \n",
    "                # Forward propagation\n",
    "                outputs = model(test)\n",
    "                \n",
    "                # Get predictions from the maximum value\n",
    "                predicted = torch.max(outputs.data, 1)[1]\n",
    "                \n",
    "                # Total number of labels\n",
    "                total += len(labels)\n",
    "                \n",
    "                correct += (predicted == labels).sum()\n",
    "            \n",
    "            accuracy = 100 * correct / float(total)\n",
    "            \n",
    "            # store loss and iteration\n",
    "            loss_list.append(loss.data)\n",
    "            iteration_list.append(count)\n",
    "            accuracy_list.append(accuracy)\n",
    "            if count % 500 == 0:\n",
    "                # Print Loss\n",
    "                print('Iteration: {}  Loss: {}  Accuracy: {} %'.format(count, loss.data[0], accuracy))"
   ]
  },
  {
   "cell_type": "code",
   "execution_count": null,
   "metadata": {},
   "outputs": [],
   "source": []
  },
  {
   "cell_type": "code",
   "execution_count": null,
   "metadata": {},
   "outputs": [],
   "source": []
  },
  {
   "cell_type": "code",
   "execution_count": null,
   "metadata": {},
   "outputs": [],
   "source": []
  },
  {
   "cell_type": "code",
   "execution_count": null,
   "metadata": {},
   "outputs": [],
   "source": []
  },
  {
   "cell_type": "code",
   "execution_count": null,
   "metadata": {},
   "outputs": [],
   "source": []
  },
  {
   "cell_type": "code",
   "execution_count": null,
   "metadata": {},
   "outputs": [],
   "source": []
  }
 ]
}