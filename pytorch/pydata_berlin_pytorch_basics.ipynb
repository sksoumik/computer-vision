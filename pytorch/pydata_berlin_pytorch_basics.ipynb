{
  "nbformat": 4,
  "nbformat_minor": 0,
  "metadata": {
    "kernelspec": {
      "name": "python3",
      "display_name": "Python 3"
    },
    "language_info": {
      "codemirror_mode": {
        "name": "ipython",
        "version": 3
      },
      "file_extension": ".py",
      "mimetype": "text/x-python",
      "name": "python",
      "nbconvert_exporter": "python",
      "pygments_lexer": "ipython3",
      "version": "3.6.7"
    },
    "colab": {
      "name": "pytorch_basics.ipynb",
      "provenance": []
    },
    "accelerator": "GPU"
  },
  "cells": [
    {
      "cell_type": "markdown",
      "metadata": {
        "toc-hr-collapsed": true,
        "id": "9L3CqaN9SX7w",
        "colab_type": "text"
      },
      "source": [
        "# PyTorch Basics"
      ]
    },
    {
      "cell_type": "markdown",
      "metadata": {
        "id": "3VWDSR38SX70",
        "colab_type": "text"
      },
      "source": [
        "## Init, helpers, utils, ..."
      ]
    },
    {
      "cell_type": "code",
      "metadata": {
        "id": "lA4ZUZWBSX71",
        "colab_type": "code",
        "colab": {}
      },
      "source": [
        "%matplotlib inline"
      ],
      "execution_count": 0,
      "outputs": []
    },
    {
      "cell_type": "code",
      "metadata": {
        "id": "yqLEm3g6SX74",
        "colab_type": "code",
        "colab": {}
      },
      "source": [
        "import torch\n",
        "import torch.nn as nn\n",
        "import torch.nn.functional as F\n",
        "import torch.optim as optim\n",
        "import torchvision"
      ],
      "execution_count": 0,
      "outputs": []
    },
    {
      "cell_type": "code",
      "metadata": {
        "id": "ntrNe7vKSX78",
        "colab_type": "code",
        "colab": {}
      },
      "source": [
        "from pprint import pprint\n",
        "\n",
        "import matplotlib.pyplot as plt\n",
        "import numpy as np\n",
        "from IPython.core.debugger import set_trace"
      ],
      "execution_count": 0,
      "outputs": []
    },
    {
      "cell_type": "markdown",
      "metadata": {
        "toc-hr-collapsed": true,
        "id": "Saf4An5LSX7_",
        "colab_type": "text"
      },
      "source": [
        "# Tensors\n",
        "tensors - the atoms of machine learning"
      ]
    },
    {
      "cell_type": "markdown",
      "metadata": {
        "id": "jpCF5Op3SX8A",
        "colab_type": "text"
      },
      "source": [
        "## Tensors in numpy and pytorch"
      ]
    },
    {
      "cell_type": "code",
      "metadata": {
        "id": "-UZqReqeSX8B",
        "colab_type": "code",
        "colab": {}
      },
      "source": [
        "import numpy as np\n",
        "from numpy.linalg import inv\n",
        "from numpy.linalg import multi_dot as mdot"
      ],
      "execution_count": 0,
      "outputs": []
    },
    {
      "cell_type": "code",
      "metadata": {
        "id": "E77ppdVZSX8D",
        "colab_type": "code",
        "colab": {
          "base_uri": "https://localhost:8080/",
          "height": 68
        },
        "outputId": "863b6eef-a4b0-4680-e746-baa4abc87406"
      },
      "source": [
        "# numpy\n",
        "np.eye(3)"
      ],
      "execution_count": 5,
      "outputs": [
        {
          "output_type": "execute_result",
          "data": {
            "text/plain": [
              "array([[1., 0., 0.],\n",
              "       [0., 1., 0.],\n",
              "       [0., 0., 1.]])"
            ]
          },
          "metadata": {
            "tags": []
          },
          "execution_count": 5
        }
      ]
    },
    {
      "cell_type": "code",
      "metadata": {
        "id": "ATBIVlbtSX8F",
        "colab_type": "code",
        "colab": {
          "base_uri": "https://localhost:8080/",
          "height": 68
        },
        "outputId": "9315c461-bc4f-4ec3-d087-8013290df99b"
      },
      "source": [
        "# torch\n",
        "torch.eye(3)"
      ],
      "execution_count": 6,
      "outputs": [
        {
          "output_type": "execute_result",
          "data": {
            "text/plain": [
              "tensor([[1., 0., 0.],\n",
              "        [0., 1., 0.],\n",
              "        [0., 0., 1.]])"
            ]
          },
          "metadata": {
            "tags": []
          },
          "execution_count": 6
        }
      ]
    },
    {
      "cell_type": "code",
      "metadata": {
        "id": "AQl0QsuUSX8I",
        "colab_type": "code",
        "colab": {
          "base_uri": "https://localhost:8080/",
          "height": 103
        },
        "outputId": "92739c0a-e4b6-4a64-b59a-f168654223ad"
      },
      "source": [
        "# numpy\n",
        "X = np.random.random((5, 3))\n",
        "X"
      ],
      "execution_count": 7,
      "outputs": [
        {
          "output_type": "execute_result",
          "data": {
            "text/plain": [
              "array([[7.19241117e-01, 3.75315594e-01, 8.93115592e-01],\n",
              "       [6.77972759e-01, 2.53235665e-01, 7.53947159e-01],\n",
              "       [8.81000858e-02, 4.04645171e-01, 8.62199823e-01],\n",
              "       [4.61886465e-01, 5.20938652e-04, 5.32576995e-01],\n",
              "       [5.85370966e-01, 8.76073470e-01, 8.03249957e-01]])"
            ]
          },
          "metadata": {
            "tags": []
          },
          "execution_count": 7
        }
      ]
    },
    {
      "cell_type": "code",
      "metadata": {
        "id": "IF6IE0RLSX8L",
        "colab_type": "code",
        "colab": {
          "base_uri": "https://localhost:8080/",
          "height": 103
        },
        "outputId": "db18eb27-9eee-49f5-ef44-86cf56b7895d"
      },
      "source": [
        "# pytorch\n",
        "Y = torch.rand((5, 3))\n",
        "Y"
      ],
      "execution_count": 8,
      "outputs": [
        {
          "output_type": "execute_result",
          "data": {
            "text/plain": [
              "tensor([[0.9095, 0.2711, 0.5523],\n",
              "        [0.5015, 0.4351, 0.4668],\n",
              "        [0.3769, 0.4143, 0.0880],\n",
              "        [0.2388, 0.5465, 0.0327],\n",
              "        [0.5563, 0.8945, 0.0480]])"
            ]
          },
          "metadata": {
            "tags": []
          },
          "execution_count": 8
        }
      ]
    },
    {
      "cell_type": "code",
      "metadata": {
        "id": "vT-Xg6s1SX8O",
        "colab_type": "code",
        "colab": {
          "base_uri": "https://localhost:8080/",
          "height": 34
        },
        "outputId": "aa0f2fbd-e8ab-4876-eda8-b94b6d4198b3"
      },
      "source": [
        "X.shape"
      ],
      "execution_count": 9,
      "outputs": [
        {
          "output_type": "execute_result",
          "data": {
            "text/plain": [
              "(5, 3)"
            ]
          },
          "metadata": {
            "tags": []
          },
          "execution_count": 9
        }
      ]
    },
    {
      "cell_type": "code",
      "metadata": {
        "id": "NEYYn_IUSX8R",
        "colab_type": "code",
        "colab": {
          "base_uri": "https://localhost:8080/",
          "height": 34
        },
        "outputId": "2c21f6e4-63a0-4521-b0fa-df2027ecdbcb"
      },
      "source": [
        "Y.shape"
      ],
      "execution_count": 10,
      "outputs": [
        {
          "output_type": "execute_result",
          "data": {
            "text/plain": [
              "torch.Size([5, 3])"
            ]
          },
          "metadata": {
            "tags": []
          },
          "execution_count": 10
        }
      ]
    },
    {
      "cell_type": "code",
      "metadata": {
        "id": "3TeI-tIlSX8T",
        "colab_type": "code",
        "colab": {
          "base_uri": "https://localhost:8080/",
          "height": 68
        },
        "outputId": "102a6678-dcc4-4119-9e94-44218a4f1323"
      },
      "source": [
        "# numpy\n",
        "X.T @ X"
      ],
      "execution_count": 11,
      "outputs": [
        {
          "output_type": "execute_result",
          "data": {
            "text/plain": [
              "array([[1.54071475, 0.99034715, 1.94567028],\n",
              "       [0.99034715, 1.13623281, 1.57899493],\n",
              "       [1.94567028, 1.57899493, 3.03832906]])"
            ]
          },
          "metadata": {
            "tags": []
          },
          "execution_count": 11
        }
      ]
    },
    {
      "cell_type": "code",
      "metadata": {
        "id": "2r7FNHhWSX8V",
        "colab_type": "code",
        "colab": {
          "base_uri": "https://localhost:8080/",
          "height": 68
        },
        "outputId": "1141254f-9dad-429e-a555-2ad7a8ff52ca"
      },
      "source": [
        "# torch\n",
        "Y.t() @ Y"
      ],
      "execution_count": 12,
      "outputs": [
        {
          "output_type": "execute_result",
          "data": {
            "text/plain": [
              "tensor([[1.5873, 1.2491, 0.8041],\n",
              "        [1.2491, 1.5333, 0.4501],\n",
              "        [0.8041, 0.4501, 0.5341]])"
            ]
          },
          "metadata": {
            "tags": []
          },
          "execution_count": 12
        }
      ]
    },
    {
      "cell_type": "code",
      "metadata": {
        "id": "_EIIWUomSX8Y",
        "colab_type": "code",
        "colab": {
          "base_uri": "https://localhost:8080/",
          "height": 68
        },
        "outputId": "4235db45-253d-4569-e929-5055f67b5b2c"
      },
      "source": [
        "# numpy\n",
        "inv(X.T @ X)"
      ],
      "execution_count": 13,
      "outputs": [
        {
          "output_type": "execute_result",
          "data": {
            "text/plain": [
              "array([[ 3.4084902 ,  0.22463117, -2.29945125],\n",
              "       [ 0.22463117,  3.18295046, -1.7980017 ],\n",
              "       [-2.29945125, -1.7980017 ,  2.73604647]])"
            ]
          },
          "metadata": {
            "tags": []
          },
          "execution_count": 13
        }
      ]
    },
    {
      "cell_type": "code",
      "metadata": {
        "id": "2Sl_TrvmSX8a",
        "colab_type": "code",
        "colab": {
          "base_uri": "https://localhost:8080/",
          "height": 68
        },
        "outputId": "eb957055-2399-4378-fbb7-5293c3f378e0"
      },
      "source": [
        "# torch\n",
        "torch.inverse(Y.t() @ Y)"
      ],
      "execution_count": 14,
      "outputs": [
        {
          "output_type": "execute_result",
          "data": {
            "text/plain": [
              "tensor([[ 10.6739,  -5.2854, -11.6159],\n",
              "        [ -5.2854,   3.4837,   5.0215],\n",
              "        [-11.6159,   5.0215,  15.1289]])"
            ]
          },
          "metadata": {
            "tags": []
          },
          "execution_count": 14
        }
      ]
    },
    {
      "cell_type": "markdown",
      "metadata": {
        "id": "G78WzPwySX8g",
        "colab_type": "text"
      },
      "source": [
        "## More on PyTorch Tensors"
      ]
    },
    {
      "cell_type": "markdown",
      "metadata": {
        "id": "OypMondrSX8h",
        "colab_type": "text"
      },
      "source": [
        "Operations are also available as methods."
      ]
    },
    {
      "cell_type": "code",
      "metadata": {
        "id": "W7u03IXhSX8i",
        "colab_type": "code",
        "colab": {
          "base_uri": "https://localhost:8080/",
          "height": 68
        },
        "outputId": "84bc7f52-5bee-4249-e4cb-86c2f3dc43f2"
      },
      "source": [
        "A = torch.eye(3)\n",
        "A.add(1)"
      ],
      "execution_count": 15,
      "outputs": [
        {
          "output_type": "execute_result",
          "data": {
            "text/plain": [
              "tensor([[2., 1., 1.],\n",
              "        [1., 2., 1.],\n",
              "        [1., 1., 2.]])"
            ]
          },
          "metadata": {
            "tags": []
          },
          "execution_count": 15
        }
      ]
    },
    {
      "cell_type": "code",
      "metadata": {
        "id": "ta9bwZQoSX8l",
        "colab_type": "code",
        "colab": {}
      },
      "source": [
        "A"
      ],
      "execution_count": 0,
      "outputs": []
    },
    {
      "cell_type": "markdown",
      "metadata": {
        "id": "UDRKEzq2SX8o",
        "colab_type": "text"
      },
      "source": [
        "Any operation that mutates a tensor in-place has a `_` suffix."
      ]
    },
    {
      "cell_type": "code",
      "metadata": {
        "id": "KpMbJiukSX8q",
        "colab_type": "code",
        "colab": {
          "base_uri": "https://localhost:8080/",
          "height": 68
        },
        "outputId": "c5691af5-2ac2-484c-ab05-1fa33647f3df"
      },
      "source": [
        "A.add_(1)\n",
        "A"
      ],
      "execution_count": 16,
      "outputs": [
        {
          "output_type": "execute_result",
          "data": {
            "text/plain": [
              "tensor([[2., 1., 1.],\n",
              "        [1., 2., 1.],\n",
              "        [1., 1., 2.]])"
            ]
          },
          "metadata": {
            "tags": []
          },
          "execution_count": 16
        }
      ]
    },
    {
      "cell_type": "markdown",
      "metadata": {
        "id": "8bRKc7R-SX8u",
        "colab_type": "text"
      },
      "source": [
        "## Indexing and broadcasting\n",
        "It works as expected/like numpy:"
      ]
    },
    {
      "cell_type": "code",
      "metadata": {
        "id": "EvgoE1AySX8w",
        "colab_type": "code",
        "colab": {
          "base_uri": "https://localhost:8080/",
          "height": 34
        },
        "outputId": "d8efa88a-868f-49c4-cbe1-ac0676083bc2"
      },
      "source": [
        "A[0, 0]"
      ],
      "execution_count": 17,
      "outputs": [
        {
          "output_type": "execute_result",
          "data": {
            "text/plain": [
              "tensor(2.)"
            ]
          },
          "metadata": {
            "tags": []
          },
          "execution_count": 17
        }
      ]
    },
    {
      "cell_type": "code",
      "metadata": {
        "id": "62CTgB9XSX86",
        "colab_type": "code",
        "colab": {
          "base_uri": "https://localhost:8080/",
          "height": 34
        },
        "outputId": "e3ce5d14-3621-4c34-ac92-1abb9df73c43"
      },
      "source": [
        "A[0]"
      ],
      "execution_count": 18,
      "outputs": [
        {
          "output_type": "execute_result",
          "data": {
            "text/plain": [
              "tensor([2., 1., 1.])"
            ]
          },
          "metadata": {
            "tags": []
          },
          "execution_count": 18
        }
      ]
    },
    {
      "cell_type": "code",
      "metadata": {
        "id": "I89ch9hKSX8-",
        "colab_type": "code",
        "colab": {
          "base_uri": "https://localhost:8080/",
          "height": 51
        },
        "outputId": "01304474-dbb8-49c8-aaae-05d3e3d5c883"
      },
      "source": [
        "A[0:2]"
      ],
      "execution_count": 19,
      "outputs": [
        {
          "output_type": "execute_result",
          "data": {
            "text/plain": [
              "tensor([[2., 1., 1.],\n",
              "        [1., 2., 1.]])"
            ]
          },
          "metadata": {
            "tags": []
          },
          "execution_count": 19
        }
      ]
    },
    {
      "cell_type": "code",
      "metadata": {
        "id": "_tjQ7pXlSX9B",
        "colab_type": "code",
        "colab": {
          "base_uri": "https://localhost:8080/",
          "height": 68
        },
        "outputId": "1d784b49-7585-4a83-e884-18a2905db470"
      },
      "source": [
        "A[:, 1:3]"
      ],
      "execution_count": 20,
      "outputs": [
        {
          "output_type": "execute_result",
          "data": {
            "text/plain": [
              "tensor([[1., 1.],\n",
              "        [2., 1.],\n",
              "        [1., 2.]])"
            ]
          },
          "metadata": {
            "tags": []
          },
          "execution_count": 20
        }
      ]
    },
    {
      "cell_type": "markdown",
      "metadata": {
        "id": "jjJNpQ70SX9D",
        "colab_type": "text"
      },
      "source": [
        "## Converting"
      ]
    },
    {
      "cell_type": "code",
      "metadata": {
        "id": "eYlEJy-CSX9E",
        "colab_type": "code",
        "colab": {
          "base_uri": "https://localhost:8080/",
          "height": 68
        },
        "outputId": "1bd66444-96c0-4404-f8f2-6b6675b7ea94"
      },
      "source": [
        "A = torch.eye(3)\n",
        "A"
      ],
      "execution_count": 21,
      "outputs": [
        {
          "output_type": "execute_result",
          "data": {
            "text/plain": [
              "tensor([[1., 0., 0.],\n",
              "        [0., 1., 0.],\n",
              "        [0., 0., 1.]])"
            ]
          },
          "metadata": {
            "tags": []
          },
          "execution_count": 21
        }
      ]
    },
    {
      "cell_type": "code",
      "metadata": {
        "id": "IehkzQicSX9I",
        "colab_type": "code",
        "colab": {
          "base_uri": "https://localhost:8080/",
          "height": 68
        },
        "outputId": "70e8d3d5-d695-413a-e5c8-32440a2cd09c"
      },
      "source": [
        "# torch --> numpy\n",
        "B = A.numpy()\n",
        "B"
      ],
      "execution_count": 22,
      "outputs": [
        {
          "output_type": "execute_result",
          "data": {
            "text/plain": [
              "array([[1., 0., 0.],\n",
              "       [0., 1., 0.],\n",
              "       [0., 0., 1.]], dtype=float32)"
            ]
          },
          "metadata": {
            "tags": []
          },
          "execution_count": 22
        }
      ]
    },
    {
      "cell_type": "markdown",
      "metadata": {
        "id": "lWgHKiC0SX9K",
        "colab_type": "text"
      },
      "source": [
        "Note: torch and numpy can share the same memory / zero-copy"
      ]
    },
    {
      "cell_type": "code",
      "metadata": {
        "id": "p-NjwcB2SX9M",
        "colab_type": "code",
        "colab": {
          "base_uri": "https://localhost:8080/",
          "height": 68
        },
        "outputId": "e7a5ffe8-3e95-4f41-c8bc-47e88f768ee6"
      },
      "source": [
        "A.add_(.5)\n",
        "A"
      ],
      "execution_count": 23,
      "outputs": [
        {
          "output_type": "execute_result",
          "data": {
            "text/plain": [
              "tensor([[1.5000, 0.5000, 0.5000],\n",
              "        [0.5000, 1.5000, 0.5000],\n",
              "        [0.5000, 0.5000, 1.5000]])"
            ]
          },
          "metadata": {
            "tags": []
          },
          "execution_count": 23
        }
      ]
    },
    {
      "cell_type": "code",
      "metadata": {
        "id": "ZMApOHJtSX9Q",
        "colab_type": "code",
        "colab": {
          "base_uri": "https://localhost:8080/",
          "height": 68
        },
        "outputId": "71a89654-c3b9-4a02-efac-582184d444dc"
      },
      "source": [
        "B"
      ],
      "execution_count": 24,
      "outputs": [
        {
          "output_type": "execute_result",
          "data": {
            "text/plain": [
              "array([[1.5, 0.5, 0.5],\n",
              "       [0.5, 1.5, 0.5],\n",
              "       [0.5, 0.5, 1.5]], dtype=float32)"
            ]
          },
          "metadata": {
            "tags": []
          },
          "execution_count": 24
        }
      ]
    },
    {
      "cell_type": "code",
      "metadata": {
        "id": "VO56ULcCSX9S",
        "colab_type": "code",
        "colab": {
          "base_uri": "https://localhost:8080/",
          "height": 68
        },
        "outputId": "d8eaf747-6ba4-4fec-cf9d-2aab9d66d443"
      },
      "source": [
        "# numpy --> torch\n",
        "torch.from_numpy(np.eye(3))"
      ],
      "execution_count": 25,
      "outputs": [
        {
          "output_type": "execute_result",
          "data": {
            "text/plain": [
              "tensor([[1., 0., 0.],\n",
              "        [0., 1., 0.],\n",
              "        [0., 0., 1.]], dtype=torch.float64)"
            ]
          },
          "metadata": {
            "tags": []
          },
          "execution_count": 25
        }
      ]
    },
    {
      "cell_type": "markdown",
      "metadata": {
        "id": "ypIY3kyISX9U",
        "colab_type": "text"
      },
      "source": [
        "## Much more"
      ]
    },
    {
      "cell_type": "code",
      "metadata": {
        "id": "_Y9mcleUSX9V",
        "colab_type": "code",
        "colab": {
          "base_uri": "https://localhost:8080/",
          "height": 1000
        },
        "outputId": "da8a6202-51e8-472d-e58b-9643f46616cf"
      },
      "source": [
        "[o for o  in dir(torch) if not o.startswith(\"_\")]"
      ],
      "execution_count": 26,
      "outputs": [
        {
          "output_type": "execute_result",
          "data": {
            "text/plain": [
              "['AVG',\n",
              " 'AggregationType',\n",
              " 'Argument',\n",
              " 'ArgumentSpec',\n",
              " 'BFloat16Storage',\n",
              " 'BFloat16Tensor',\n",
              " 'BenchmarkConfig',\n",
              " 'BenchmarkExecutionStats',\n",
              " 'Block',\n",
              " 'BoolStorage',\n",
              " 'BoolTensor',\n",
              " 'BoolType',\n",
              " 'ByteStorage',\n",
              " 'ByteTensor',\n",
              " 'CharStorage',\n",
              " 'CharTensor',\n",
              " 'ClassType',\n",
              " 'Code',\n",
              " 'CompilationUnit',\n",
              " 'CompleteArgumentSpec',\n",
              " 'CudaBFloat16StorageBase',\n",
              " 'CudaBoolStorageBase',\n",
              " 'CudaByteStorageBase',\n",
              " 'CudaCharStorageBase',\n",
              " 'CudaDoubleStorageBase',\n",
              " 'CudaFloatStorageBase',\n",
              " 'CudaHalfStorageBase',\n",
              " 'CudaIntStorageBase',\n",
              " 'CudaLongStorageBase',\n",
              " 'CudaShortStorageBase',\n",
              " 'DictType',\n",
              " 'DoubleStorage',\n",
              " 'DoubleTensor',\n",
              " 'ErrorReport',\n",
              " 'ExecutionPlan',\n",
              " 'ExtraFilesMap',\n",
              " 'FatalError',\n",
              " 'FileCheck',\n",
              " 'FloatStorage',\n",
              " 'FloatTensor',\n",
              " 'FloatType',\n",
              " 'Function',\n",
              " 'FunctionSchema',\n",
              " 'Future',\n",
              " 'Generator',\n",
              " 'Gradient',\n",
              " 'Graph',\n",
              " 'GraphExecutorState',\n",
              " 'HalfStorage',\n",
              " 'HalfStorageBase',\n",
              " 'HalfTensor',\n",
              " 'IODescriptor',\n",
              " 'IntStorage',\n",
              " 'IntTensor',\n",
              " 'IntType',\n",
              " 'JITException',\n",
              " 'ListType',\n",
              " 'LockingLogger',\n",
              " 'LoggerBase',\n",
              " 'LongStorage',\n",
              " 'LongTensor',\n",
              " 'Node',\n",
              " 'NoopLogger',\n",
              " 'NumberType',\n",
              " 'OptionalType',\n",
              " 'PyTorchFileReader',\n",
              " 'PyTorchFileWriter',\n",
              " 'QInt32Storage',\n",
              " 'QInt32StorageBase',\n",
              " 'QInt8Storage',\n",
              " 'QInt8StorageBase',\n",
              " 'QUInt8Storage',\n",
              " 'SUM',\n",
              " 'ScriptMethod',\n",
              " 'ScriptModule',\n",
              " 'ShortStorage',\n",
              " 'ShortTensor',\n",
              " 'Size',\n",
              " 'Storage',\n",
              " 'StringType',\n",
              " 'Tensor',\n",
              " 'TensorType',\n",
              " 'ThroughputBenchmark',\n",
              " 'TracingState',\n",
              " 'TupleType',\n",
              " 'Type',\n",
              " 'Use',\n",
              " 'Value',\n",
              " 'abs',\n",
              " 'abs_',\n",
              " 'acos',\n",
              " 'acos_',\n",
              " 'adaptive_avg_pool1d',\n",
              " 'adaptive_max_pool1d',\n",
              " 'add',\n",
              " 'addbmm',\n",
              " 'addcdiv',\n",
              " 'addcmul',\n",
              " 'addmm',\n",
              " 'addmv',\n",
              " 'addmv_',\n",
              " 'addr',\n",
              " 'affine_grid_generator',\n",
              " 'all',\n",
              " 'allclose',\n",
              " 'alpha_dropout',\n",
              " 'alpha_dropout_',\n",
              " 'any',\n",
              " 'arange',\n",
              " 'argmax',\n",
              " 'argmin',\n",
              " 'argsort',\n",
              " 'as_strided',\n",
              " 'as_strided_',\n",
              " 'as_tensor',\n",
              " 'asin',\n",
              " 'asin_',\n",
              " 'atan',\n",
              " 'atan2',\n",
              " 'atan_',\n",
              " 'autograd',\n",
              " 'avg_pool1d',\n",
              " 'backends',\n",
              " 'baddbmm',\n",
              " 'bartlett_window',\n",
              " 'batch_norm',\n",
              " 'batch_norm_backward_elemt',\n",
              " 'batch_norm_backward_reduce',\n",
              " 'batch_norm_elemt',\n",
              " 'batch_norm_gather_stats',\n",
              " 'batch_norm_gather_stats_with_counts',\n",
              " 'batch_norm_stats',\n",
              " 'batch_norm_update_stats',\n",
              " 'bernoulli',\n",
              " 'bfloat16',\n",
              " 'bilinear',\n",
              " 'binary_cross_entropy_with_logits',\n",
              " 'bincount',\n",
              " 'bitwise_not',\n",
              " 'blackman_window',\n",
              " 'bmm',\n",
              " 'bool',\n",
              " 'broadcast_tensors',\n",
              " 'cartesian_prod',\n",
              " 'cat',\n",
              " 'cdist',\n",
              " 'ceil',\n",
              " 'ceil_',\n",
              " 'celu',\n",
              " 'celu_',\n",
              " 'chain_matmul',\n",
              " 'channels_last',\n",
              " 'cholesky',\n",
              " 'cholesky_inverse',\n",
              " 'cholesky_solve',\n",
              " 'chunk',\n",
              " 'clamp',\n",
              " 'clamp_',\n",
              " 'clamp_max',\n",
              " 'clamp_max_',\n",
              " 'clamp_min',\n",
              " 'clamp_min_',\n",
              " 'clone',\n",
              " 'combinations',\n",
              " 'compiled_with_cxx11_abi',\n",
              " 'complex128',\n",
              " 'complex32',\n",
              " 'complex64',\n",
              " 'constant_pad_nd',\n",
              " 'contiguous_format',\n",
              " 'conv1d',\n",
              " 'conv2d',\n",
              " 'conv3d',\n",
              " 'conv_tbc',\n",
              " 'conv_transpose1d',\n",
              " 'conv_transpose2d',\n",
              " 'conv_transpose3d',\n",
              " 'convolution',\n",
              " 'cos',\n",
              " 'cos_',\n",
              " 'cosh',\n",
              " 'cosh_',\n",
              " 'cosine_embedding_loss',\n",
              " 'cosine_similarity',\n",
              " 'cpp',\n",
              " 'cross',\n",
              " 'ctc_loss',\n",
              " 'cuda',\n",
              " 'cudnn_affine_grid_generator',\n",
              " 'cudnn_batch_norm',\n",
              " 'cudnn_convolution',\n",
              " 'cudnn_convolution_transpose',\n",
              " 'cudnn_grid_sampler',\n",
              " 'cudnn_is_acceptable',\n",
              " 'cumprod',\n",
              " 'cumsum',\n",
              " 'default_generator',\n",
              " 'dequantize',\n",
              " 'det',\n",
              " 'detach',\n",
              " 'detach_',\n",
              " 'device',\n",
              " 'diag',\n",
              " 'diag_embed',\n",
              " 'diagflat',\n",
              " 'diagonal',\n",
              " 'digamma',\n",
              " 'dist',\n",
              " 'distributed',\n",
              " 'distributions',\n",
              " 'div',\n",
              " 'dot',\n",
              " 'double',\n",
              " 'dropout',\n",
              " 'dropout_',\n",
              " 'dsmm',\n",
              " 'dtype',\n",
              " 'eig',\n",
              " 'einsum',\n",
              " 'embedding',\n",
              " 'embedding_bag',\n",
              " 'embedding_renorm_',\n",
              " 'empty',\n",
              " 'empty_like',\n",
              " 'empty_strided',\n",
              " 'enable_grad',\n",
              " 'eq',\n",
              " 'equal',\n",
              " 'erf',\n",
              " 'erf_',\n",
              " 'erfc',\n",
              " 'erfc_',\n",
              " 'erfinv',\n",
              " 'exp',\n",
              " 'exp_',\n",
              " 'expm1',\n",
              " 'expm1_',\n",
              " 'eye',\n",
              " 'fake_quantize_per_tensor_affine',\n",
              " 'fbgemm_is_cpu_supported',\n",
              " 'fbgemm_linear_fp16_weight',\n",
              " 'fbgemm_linear_int8_weight',\n",
              " 'fbgemm_linear_quantize_weight',\n",
              " 'fbgemm_pack_gemm_matrix_fp16',\n",
              " 'fbgemm_pack_quantized_matrix',\n",
              " 'feature_alpha_dropout',\n",
              " 'feature_alpha_dropout_',\n",
              " 'feature_dropout',\n",
              " 'feature_dropout_',\n",
              " 'fft',\n",
              " 'fill_',\n",
              " 'finfo',\n",
              " 'flatten',\n",
              " 'flip',\n",
              " 'float',\n",
              " 'float16',\n",
              " 'float32',\n",
              " 'float64',\n",
              " 'floor',\n",
              " 'floor_',\n",
              " 'fmod',\n",
              " 'fork',\n",
              " 'frac',\n",
              " 'frac_',\n",
              " 'frobenius_norm',\n",
              " 'from_file',\n",
              " 'from_numpy',\n",
              " 'full',\n",
              " 'full_like',\n",
              " 'functional',\n",
              " 'gather',\n",
              " 'ge',\n",
              " 'gels',\n",
              " 'geqrf',\n",
              " 'ger',\n",
              " 'get_default_dtype',\n",
              " 'get_device',\n",
              " 'get_file_path',\n",
              " 'get_num_interop_threads',\n",
              " 'get_num_threads',\n",
              " 'get_rng_state',\n",
              " 'grid_sampler',\n",
              " 'grid_sampler_2d',\n",
              " 'grid_sampler_3d',\n",
              " 'group_norm',\n",
              " 'gru',\n",
              " 'gru_cell',\n",
              " 'gt',\n",
              " 'half',\n",
              " 'hamming_window',\n",
              " 'hann_window',\n",
              " 'hardshrink',\n",
              " 'has_cuda',\n",
              " 'has_cudnn',\n",
              " 'has_lapack',\n",
              " 'has_mkl',\n",
              " 'has_mkldnn',\n",
              " 'has_openmp',\n",
              " 'hinge_embedding_loss',\n",
              " 'histc',\n",
              " 'hsmm',\n",
              " 'hspmm',\n",
              " 'hub',\n",
              " 'ifft',\n",
              " 'iinfo',\n",
              " 'import_ir_module',\n",
              " 'import_ir_module_from_buffer',\n",
              " 'index_add',\n",
              " 'index_copy',\n",
              " 'index_fill',\n",
              " 'index_put',\n",
              " 'index_put_',\n",
              " 'index_select',\n",
              " 'initial_seed',\n",
              " 'instance_norm',\n",
              " 'int',\n",
              " 'int16',\n",
              " 'int32',\n",
              " 'int64',\n",
              " 'int8',\n",
              " 'int_repr',\n",
              " 'inverse',\n",
              " 'irfft',\n",
              " 'is_anomaly_enabled',\n",
              " 'is_complex',\n",
              " 'is_distributed',\n",
              " 'is_floating_point',\n",
              " 'is_grad_enabled',\n",
              " 'is_nonzero',\n",
              " 'is_same_size',\n",
              " 'is_signed',\n",
              " 'is_storage',\n",
              " 'is_tensor',\n",
              " 'isclose',\n",
              " 'isfinite',\n",
              " 'isinf',\n",
              " 'isnan',\n",
              " 'jit',\n",
              " 'kl_div',\n",
              " 'kthvalue',\n",
              " 'layer_norm',\n",
              " 'layout',\n",
              " 'le',\n",
              " 'lerp',\n",
              " 'lgamma',\n",
              " 'linspace',\n",
              " 'load',\n",
              " 'log',\n",
              " 'log10',\n",
              " 'log10_',\n",
              " 'log1p',\n",
              " 'log1p_',\n",
              " 'log2',\n",
              " 'log2_',\n",
              " 'log_',\n",
              " 'log_softmax',\n",
              " 'logdet',\n",
              " 'logspace',\n",
              " 'logsumexp',\n",
              " 'long',\n",
              " 'lstm',\n",
              " 'lstm_cell',\n",
              " 'lstsq',\n",
              " 'lt',\n",
              " 'lu',\n",
              " 'lu_solve',\n",
              " 'lu_unpack',\n",
              " 'manual_seed',\n",
              " 'margin_ranking_loss',\n",
              " 'masked_fill',\n",
              " 'masked_scatter',\n",
              " 'masked_select',\n",
              " 'matmul',\n",
              " 'matrix_power',\n",
              " 'matrix_rank',\n",
              " 'max',\n",
              " 'max_pool1d',\n",
              " 'max_pool1d_with_indices',\n",
              " 'max_pool2d',\n",
              " 'max_pool3d',\n",
              " 'mean',\n",
              " 'median',\n",
              " 'memory_format',\n",
              " 'merge_type_from_type_comment',\n",
              " 'meshgrid',\n",
              " 'min',\n",
              " 'miopen_batch_norm',\n",
              " 'miopen_convolution',\n",
              " 'miopen_convolution_transpose',\n",
              " 'miopen_depthwise_convolution',\n",
              " 'miopen_rnn',\n",
              " 'mkldnn_adaptive_avg_pool2d',\n",
              " 'mkldnn_convolution',\n",
              " 'mkldnn_convolution_backward_weights',\n",
              " 'mkldnn_max_pool2d',\n",
              " 'mm',\n",
              " 'mode',\n",
              " 'mul',\n",
              " 'multinomial',\n",
              " 'multiprocessing',\n",
              " 'mv',\n",
              " 'mvlgamma',\n",
              " 'name',\n",
              " 'narrow',\n",
              " 'native_batch_norm',\n",
              " 'native_layer_norm',\n",
              " 'native_norm',\n",
              " 'ne',\n",
              " 'neg',\n",
              " 'neg_',\n",
              " 'nn',\n",
              " 'no_grad',\n",
              " 'nonzero',\n",
              " 'norm',\n",
              " 'norm_except_dim',\n",
              " 'normal',\n",
              " 'nuclear_norm',\n",
              " 'numel',\n",
              " 'ones',\n",
              " 'ones_like',\n",
              " 'onnx',\n",
              " 'ops',\n",
              " 'optim',\n",
              " 'orgqr',\n",
              " 'ormqr',\n",
              " 'os',\n",
              " 'pairwise_distance',\n",
              " 'parse_ir',\n",
              " 'parse_type_comment',\n",
              " 'pdist',\n",
              " 'per_channel_affine',\n",
              " 'per_channel_symmetric',\n",
              " 'per_tensor_affine',\n",
              " 'per_tensor_symmetric',\n",
              " 'pin_memory',\n",
              " 'pinverse',\n",
              " 'pixel_shuffle',\n",
              " 'platform',\n",
              " 'poisson',\n",
              " 'poisson_nll_loss',\n",
              " 'polygamma',\n",
              " 'pow',\n",
              " 'prelu',\n",
              " 'prepare_multiprocessing_environment',\n",
              " 'preserve_format',\n",
              " 'prod',\n",
              " 'q_scale',\n",
              " 'q_zero_point',\n",
              " 'qint32',\n",
              " 'qint8',\n",
              " 'qr',\n",
              " 'qscheme',\n",
              " 'quantize_linear',\n",
              " 'quantize_linear_per_channel',\n",
              " 'quantized_gru',\n",
              " 'quantized_gru_cell',\n",
              " 'quantized_lstm',\n",
              " 'quantized_lstm_cell',\n",
              " 'quantized_max_pool2d',\n",
              " 'quantized_rnn_relu_cell',\n",
              " 'quantized_rnn_tanh_cell',\n",
              " 'quasirandom',\n",
              " 'quint8',\n",
              " 'rand',\n",
              " 'rand_like',\n",
              " 'randint',\n",
              " 'randint_like',\n",
              " 'randn',\n",
              " 'randn_like',\n",
              " 'random',\n",
              " 'randperm',\n",
              " 'range',\n",
              " 'reciprocal',\n",
              " 'reciprocal_',\n",
              " 'relu',\n",
              " 'relu_',\n",
              " 'remainder',\n",
              " 'renorm',\n",
              " 'repeat_interleave',\n",
              " 'reshape',\n",
              " 'resize_as_',\n",
              " 'rfft',\n",
              " 'rnn_relu',\n",
              " 'rnn_relu_cell',\n",
              " 'rnn_tanh',\n",
              " 'rnn_tanh_cell',\n",
              " 'roll',\n",
              " 'rot90',\n",
              " 'round',\n",
              " 'round_',\n",
              " 'rrelu',\n",
              " 'rrelu_',\n",
              " 'rsqrt',\n",
              " 'rsqrt_',\n",
              " 'rsub',\n",
              " 's_native_addmm',\n",
              " 's_native_addmm_',\n",
              " 'saddmm',\n",
              " 'save',\n",
              " 'scalar_tensor',\n",
              " 'scatter',\n",
              " 'scatter_add',\n",
              " 'seed',\n",
              " 'select',\n",
              " 'selu',\n",
              " 'selu_',\n",
              " 'serialization',\n",
              " 'set_anomaly_enabled',\n",
              " 'set_default_dtype',\n",
              " 'set_default_tensor_type',\n",
              " 'set_flush_denormal',\n",
              " 'set_grad_enabled',\n",
              " 'set_num_interop_threads',\n",
              " 'set_num_threads',\n",
              " 'set_printoptions',\n",
              " 'set_rng_state',\n",
              " 'short',\n",
              " 'sigmoid',\n",
              " 'sigmoid_',\n",
              " 'sign',\n",
              " 'sin',\n",
              " 'sin_',\n",
              " 'sinh',\n",
              " 'sinh_',\n",
              " 'slogdet',\n",
              " 'smm',\n",
              " 'softmax',\n",
              " 'solve',\n",
              " 'sort',\n",
              " 'sparse',\n",
              " 'sparse_coo',\n",
              " 'sparse_coo_tensor',\n",
              " 'split',\n",
              " 'split_with_sizes',\n",
              " 'spmm',\n",
              " 'sqrt',\n",
              " 'sqrt_',\n",
              " 'squeeze',\n",
              " 'sspaddmm',\n",
              " 'stack',\n",
              " 'std',\n",
              " 'std_mean',\n",
              " 'stft',\n",
              " 'storage',\n",
              " 'strided',\n",
              " 'sub',\n",
              " 'sum',\n",
              " 'svd',\n",
              " 'symeig',\n",
              " 'sys',\n",
              " 't',\n",
              " 'take',\n",
              " 'tan',\n",
              " 'tan_',\n",
              " 'tanh',\n",
              " 'tanh_',\n",
              " 'tensor',\n",
              " 'tensordot',\n",
              " 'testing',\n",
              " 'threshold',\n",
              " 'threshold_',\n",
              " 'topk',\n",
              " 'torch',\n",
              " 'trace',\n",
              " 'transpose',\n",
              " 'trapz',\n",
              " 'triangular_solve',\n",
              " 'tril',\n",
              " 'tril_indices',\n",
              " 'triplet_margin_loss',\n",
              " 'triu',\n",
              " 'triu_indices',\n",
              " 'trunc',\n",
              " 'trunc_',\n",
              " 'typename',\n",
              " 'uint8',\n",
              " 'unbind',\n",
              " 'unique',\n",
              " 'unique_consecutive',\n",
              " 'unsqueeze',\n",
              " 'utils',\n",
              " 'var',\n",
              " 'var_mean',\n",
              " 'version',\n",
              " 'wait',\n",
              " 'where',\n",
              " 'zero_',\n",
              " 'zeros',\n",
              " 'zeros_like']"
            ]
          },
          "metadata": {
            "tags": []
          },
          "execution_count": 26
        }
      ]
    },
    {
      "cell_type": "code",
      "metadata": {
        "id": "xNlEVKclSX9Z",
        "colab_type": "code",
        "colab": {
          "base_uri": "https://localhost:8080/",
          "height": 1000
        },
        "outputId": "c6fa59e1-f80f-408c-c91e-f4db5b14a9d3"
      },
      "source": [
        "[o for o  in dir(A) if not o.startswith(\"_\")]"
      ],
      "execution_count": 27,
      "outputs": [
        {
          "output_type": "execute_result",
          "data": {
            "text/plain": [
              "['T',\n",
              " 'abs',\n",
              " 'abs_',\n",
              " 'acos',\n",
              " 'acos_',\n",
              " 'add',\n",
              " 'add_',\n",
              " 'addbmm',\n",
              " 'addbmm_',\n",
              " 'addcdiv',\n",
              " 'addcdiv_',\n",
              " 'addcmul',\n",
              " 'addcmul_',\n",
              " 'addmm',\n",
              " 'addmm_',\n",
              " 'addmv',\n",
              " 'addmv_',\n",
              " 'addr',\n",
              " 'addr_',\n",
              " 'all',\n",
              " 'allclose',\n",
              " 'any',\n",
              " 'apply_',\n",
              " 'argmax',\n",
              " 'argmin',\n",
              " 'argsort',\n",
              " 'as_strided',\n",
              " 'as_strided_',\n",
              " 'asin',\n",
              " 'asin_',\n",
              " 'atan',\n",
              " 'atan2',\n",
              " 'atan2_',\n",
              " 'atan_',\n",
              " 'backward',\n",
              " 'baddbmm',\n",
              " 'baddbmm_',\n",
              " 'bernoulli',\n",
              " 'bernoulli_',\n",
              " 'bfloat16',\n",
              " 'bincount',\n",
              " 'bitwise_not',\n",
              " 'bitwise_not_',\n",
              " 'bmm',\n",
              " 'bool',\n",
              " 'byte',\n",
              " 'cauchy_',\n",
              " 'ceil',\n",
              " 'ceil_',\n",
              " 'char',\n",
              " 'cholesky',\n",
              " 'cholesky_inverse',\n",
              " 'cholesky_solve',\n",
              " 'chunk',\n",
              " 'clamp',\n",
              " 'clamp_',\n",
              " 'clamp_max',\n",
              " 'clamp_max_',\n",
              " 'clamp_min',\n",
              " 'clamp_min_',\n",
              " 'clone',\n",
              " 'coalesce',\n",
              " 'contiguous',\n",
              " 'copy_',\n",
              " 'cos',\n",
              " 'cos_',\n",
              " 'cosh',\n",
              " 'cosh_',\n",
              " 'cpu',\n",
              " 'cross',\n",
              " 'cuda',\n",
              " 'cumprod',\n",
              " 'cumsum',\n",
              " 'data',\n",
              " 'data_ptr',\n",
              " 'dense_dim',\n",
              " 'dequantize',\n",
              " 'det',\n",
              " 'detach',\n",
              " 'detach_',\n",
              " 'device',\n",
              " 'diag',\n",
              " 'diag_embed',\n",
              " 'diagflat',\n",
              " 'diagonal',\n",
              " 'digamma',\n",
              " 'digamma_',\n",
              " 'dim',\n",
              " 'dist',\n",
              " 'div',\n",
              " 'div_',\n",
              " 'dot',\n",
              " 'double',\n",
              " 'dtype',\n",
              " 'eig',\n",
              " 'element_size',\n",
              " 'eq',\n",
              " 'eq_',\n",
              " 'equal',\n",
              " 'erf',\n",
              " 'erf_',\n",
              " 'erfc',\n",
              " 'erfc_',\n",
              " 'erfinv',\n",
              " 'erfinv_',\n",
              " 'exp',\n",
              " 'exp_',\n",
              " 'expand',\n",
              " 'expand_as',\n",
              " 'expm1',\n",
              " 'expm1_',\n",
              " 'exponential_',\n",
              " 'fft',\n",
              " 'fill_',\n",
              " 'fill_diagonal_',\n",
              " 'flatten',\n",
              " 'flip',\n",
              " 'float',\n",
              " 'floor',\n",
              " 'floor_',\n",
              " 'fmod',\n",
              " 'fmod_',\n",
              " 'frac',\n",
              " 'frac_',\n",
              " 'gather',\n",
              " 'ge',\n",
              " 'ge_',\n",
              " 'gels',\n",
              " 'geometric_',\n",
              " 'geqrf',\n",
              " 'ger',\n",
              " 'get_device',\n",
              " 'grad',\n",
              " 'grad_fn',\n",
              " 'gt',\n",
              " 'gt_',\n",
              " 'half',\n",
              " 'hardshrink',\n",
              " 'histc',\n",
              " 'ifft',\n",
              " 'index_add',\n",
              " 'index_add_',\n",
              " 'index_copy',\n",
              " 'index_copy_',\n",
              " 'index_fill',\n",
              " 'index_fill_',\n",
              " 'index_put',\n",
              " 'index_put_',\n",
              " 'index_select',\n",
              " 'indices',\n",
              " 'int',\n",
              " 'int_repr',\n",
              " 'inverse',\n",
              " 'irfft',\n",
              " 'is_coalesced',\n",
              " 'is_complex',\n",
              " 'is_contiguous',\n",
              " 'is_cuda',\n",
              " 'is_distributed',\n",
              " 'is_floating_point',\n",
              " 'is_leaf',\n",
              " 'is_mkldnn',\n",
              " 'is_nonzero',\n",
              " 'is_pinned',\n",
              " 'is_quantized',\n",
              " 'is_same_size',\n",
              " 'is_set_to',\n",
              " 'is_shared',\n",
              " 'is_signed',\n",
              " 'is_sparse',\n",
              " 'isclose',\n",
              " 'item',\n",
              " 'kthvalue',\n",
              " 'layout',\n",
              " 'le',\n",
              " 'le_',\n",
              " 'lerp',\n",
              " 'lerp_',\n",
              " 'lgamma',\n",
              " 'lgamma_',\n",
              " 'log',\n",
              " 'log10',\n",
              " 'log10_',\n",
              " 'log1p',\n",
              " 'log1p_',\n",
              " 'log2',\n",
              " 'log2_',\n",
              " 'log_',\n",
              " 'log_normal_',\n",
              " 'log_softmax',\n",
              " 'logdet',\n",
              " 'logsumexp',\n",
              " 'long',\n",
              " 'lstsq',\n",
              " 'lt',\n",
              " 'lt_',\n",
              " 'lu',\n",
              " 'lu_solve',\n",
              " 'map2_',\n",
              " 'map_',\n",
              " 'masked_fill',\n",
              " 'masked_fill_',\n",
              " 'masked_scatter',\n",
              " 'masked_scatter_',\n",
              " 'masked_select',\n",
              " 'matmul',\n",
              " 'matrix_power',\n",
              " 'max',\n",
              " 'mean',\n",
              " 'median',\n",
              " 'min',\n",
              " 'mm',\n",
              " 'mode',\n",
              " 'mul',\n",
              " 'mul_',\n",
              " 'multinomial',\n",
              " 'mv',\n",
              " 'mvlgamma',\n",
              " 'mvlgamma_',\n",
              " 'name',\n",
              " 'narrow',\n",
              " 'narrow_copy',\n",
              " 'ndim',\n",
              " 'ndimension',\n",
              " 'ne',\n",
              " 'ne_',\n",
              " 'neg',\n",
              " 'neg_',\n",
              " 'nelement',\n",
              " 'new',\n",
              " 'new_empty',\n",
              " 'new_full',\n",
              " 'new_ones',\n",
              " 'new_tensor',\n",
              " 'new_zeros',\n",
              " 'nonzero',\n",
              " 'norm',\n",
              " 'normal_',\n",
              " 'numel',\n",
              " 'numpy',\n",
              " 'orgqr',\n",
              " 'ormqr',\n",
              " 'output_nr',\n",
              " 'permute',\n",
              " 'pin_memory',\n",
              " 'pinverse',\n",
              " 'polygamma',\n",
              " 'polygamma_',\n",
              " 'pow',\n",
              " 'pow_',\n",
              " 'prelu',\n",
              " 'prod',\n",
              " 'put_',\n",
              " 'q_scale',\n",
              " 'q_zero_point',\n",
              " 'qr',\n",
              " 'qscheme',\n",
              " 'random_',\n",
              " 'reciprocal',\n",
              " 'reciprocal_',\n",
              " 'record_stream',\n",
              " 'register_hook',\n",
              " 'reinforce',\n",
              " 'relu',\n",
              " 'relu_',\n",
              " 'remainder',\n",
              " 'remainder_',\n",
              " 'renorm',\n",
              " 'renorm_',\n",
              " 'repeat',\n",
              " 'repeat_interleave',\n",
              " 'requires_grad',\n",
              " 'requires_grad_',\n",
              " 'reshape',\n",
              " 'reshape_as',\n",
              " 'resize',\n",
              " 'resize_',\n",
              " 'resize_as',\n",
              " 'resize_as_',\n",
              " 'retain_grad',\n",
              " 'rfft',\n",
              " 'roll',\n",
              " 'rot90',\n",
              " 'round',\n",
              " 'round_',\n",
              " 'rsqrt',\n",
              " 'rsqrt_',\n",
              " 'scatter',\n",
              " 'scatter_',\n",
              " 'scatter_add',\n",
              " 'scatter_add_',\n",
              " 'select',\n",
              " 'set_',\n",
              " 'shape',\n",
              " 'share_memory_',\n",
              " 'short',\n",
              " 'sigmoid',\n",
              " 'sigmoid_',\n",
              " 'sign',\n",
              " 'sign_',\n",
              " 'sin',\n",
              " 'sin_',\n",
              " 'sinh',\n",
              " 'sinh_',\n",
              " 'size',\n",
              " 'slogdet',\n",
              " 'smm',\n",
              " 'softmax',\n",
              " 'solve',\n",
              " 'sort',\n",
              " 'sparse_dim',\n",
              " 'sparse_mask',\n",
              " 'sparse_resize_',\n",
              " 'sparse_resize_and_clear_',\n",
              " 'split',\n",
              " 'split_with_sizes',\n",
              " 'sqrt',\n",
              " 'sqrt_',\n",
              " 'squeeze',\n",
              " 'squeeze_',\n",
              " 'sspaddmm',\n",
              " 'std',\n",
              " 'stft',\n",
              " 'storage',\n",
              " 'storage_offset',\n",
              " 'storage_type',\n",
              " 'stride',\n",
              " 'sub',\n",
              " 'sub_',\n",
              " 'sum',\n",
              " 'sum_to_size',\n",
              " 'svd',\n",
              " 'symeig',\n",
              " 't',\n",
              " 't_',\n",
              " 'take',\n",
              " 'tan',\n",
              " 'tan_',\n",
              " 'tanh',\n",
              " 'tanh_',\n",
              " 'to',\n",
              " 'to_dense',\n",
              " 'to_mkldnn',\n",
              " 'to_sparse',\n",
              " 'tolist',\n",
              " 'topk',\n",
              " 'trace',\n",
              " 'transpose',\n",
              " 'transpose_',\n",
              " 'triangular_solve',\n",
              " 'tril',\n",
              " 'tril_',\n",
              " 'triu',\n",
              " 'triu_',\n",
              " 'trunc',\n",
              " 'trunc_',\n",
              " 'type',\n",
              " 'type_as',\n",
              " 'unbind',\n",
              " 'unfold',\n",
              " 'uniform_',\n",
              " 'unique',\n",
              " 'unique_consecutive',\n",
              " 'unsqueeze',\n",
              " 'unsqueeze_',\n",
              " 'values',\n",
              " 'var',\n",
              " 'view',\n",
              " 'view_as',\n",
              " 'where',\n",
              " 'zero_']"
            ]
          },
          "metadata": {
            "tags": []
          },
          "execution_count": 27
        }
      ]
    },
    {
      "cell_type": "markdown",
      "metadata": {
        "id": "jqdRPz-cSX9f",
        "colab_type": "text"
      },
      "source": [
        "# What about the GPU?\n",
        "How do I use the GPU?\n",
        "\n",
        "If you have a GPU make sure that the right pytorch is installed\n",
        "(check https://pytorch.org/ for details)."
      ]
    },
    {
      "cell_type": "code",
      "metadata": {
        "id": "6dKYzbVkSX9i",
        "colab_type": "code",
        "colab": {
          "base_uri": "https://localhost:8080/",
          "height": 34
        },
        "outputId": "50885f1d-881a-4dc8-aefb-d254f179283c"
      },
      "source": [
        "device = torch.device(\"cuda:0\" if torch.cuda.is_available() else \"cpu\")\n",
        "device"
      ],
      "execution_count": 28,
      "outputs": [
        {
          "output_type": "execute_result",
          "data": {
            "text/plain": [
              "device(type='cuda', index=0)"
            ]
          },
          "metadata": {
            "tags": []
          },
          "execution_count": 28
        }
      ]
    },
    {
      "cell_type": "markdown",
      "metadata": {
        "id": "HYiUD76USX9n",
        "colab_type": "text"
      },
      "source": [
        "If you have a GPU you should get something like: \n",
        "`device(type='cuda', index=0)`\n",
        "\n",
        "You can move data to the GPU by doing `.to(device)`."
      ]
    },
    {
      "cell_type": "code",
      "metadata": {
        "id": "d97LXL-_SX9o",
        "colab_type": "code",
        "colab": {
          "base_uri": "https://localhost:8080/",
          "height": 68
        },
        "outputId": "2c472cd5-808a-4fbd-ac54-f3408978b5ef"
      },
      "source": [
        "data = torch.eye(3)\n",
        "data.to(device)"
      ],
      "execution_count": 30,
      "outputs": [
        {
          "output_type": "execute_result",
          "data": {
            "text/plain": [
              "tensor([[1., 0., 0.],\n",
              "        [0., 1., 0.],\n",
              "        [0., 0., 1.]], device='cuda:0')"
            ]
          },
          "metadata": {
            "tags": []
          },
          "execution_count": 30
        }
      ]
    },
    {
      "cell_type": "markdown",
      "metadata": {
        "id": "pmF9McCSSX9q",
        "colab_type": "text"
      },
      "source": [
        "Now the computation happens on the GPU."
      ]
    },
    {
      "cell_type": "code",
      "metadata": {
        "id": "2gtTRaIZSX9r",
        "colab_type": "code",
        "colab": {
          "base_uri": "https://localhost:8080/",
          "height": 68
        },
        "outputId": "e75dbd78-dc01-4042-a10e-a2855b017afa"
      },
      "source": [
        "res = data + data\n",
        "res"
      ],
      "execution_count": 31,
      "outputs": [
        {
          "output_type": "execute_result",
          "data": {
            "text/plain": [
              "tensor([[2., 0., 0.],\n",
              "        [0., 2., 0.],\n",
              "        [0., 0., 2.]])"
            ]
          },
          "metadata": {
            "tags": []
          },
          "execution_count": 31
        }
      ]
    },
    {
      "cell_type": "code",
      "metadata": {
        "id": "Zi0Quax_SX9t",
        "colab_type": "code",
        "colab": {
          "base_uri": "https://localhost:8080/",
          "height": 34
        },
        "outputId": "0fc9e42c-11f7-40ad-b070-0f63704b28c5"
      },
      "source": [
        "res.device"
      ],
      "execution_count": 32,
      "outputs": [
        {
          "output_type": "execute_result",
          "data": {
            "text/plain": [
              "device(type='cpu')"
            ]
          },
          "metadata": {
            "tags": []
          },
          "execution_count": 32
        }
      ]
    },
    {
      "cell_type": "markdown",
      "metadata": {
        "id": "xFwTHjgmSX9w",
        "colab_type": "text"
      },
      "source": [
        "Note: before `v0.4` one had to use `.cuda()` and `.cpu()` to move stuff to and from the GPU.\n",
        "This littered the code with many:\n",
        "```python\n",
        "if CUDA:\n",
        "    model = model.cuda()\n",
        "```"
      ]
    },
    {
      "cell_type": "markdown",
      "metadata": {
        "id": "Fo9PVZ6RSX9y",
        "colab_type": "text"
      },
      "source": [
        "# Automatic differentiation with `autograd`\n",
        "Prior to `v0.4` PyTorch used the class `Variable` to record gradients. You had to wrap `Tensor`s in `Variable`s.\n",
        "`Variable`s behaved exactly like `Tensors`.\n",
        "\n",
        "With `v0.4` `Tensor` can record gradients directly if you tell it do do so, e.g. `torch.ones(3, requires_grad=True)`.\n",
        "There is no need for `Variable` anymore.\n",
        "Many tutorials still use `Variable`, be aware!\n",
        "\n",
        "Ref:\n",
        "- https://pytorch.org/docs/stable/autograd.html\n",
        "- https://pytorch.org/tutorials/beginner/blitz/autograd_tutorial.html"
      ]
    },
    {
      "cell_type": "markdown",
      "metadata": {
        "id": "GcLA4TzkSX9z",
        "colab_type": "text"
      },
      "source": [
        "You rarely use `torch.autograd` directly.\n",
        "Pretty much everything is part or `torch.Tensor` now.\n",
        "Simply add `requires_grad=True` to the tensors you want to calculate the gradients for.\n",
        "`nn.Module` track gradients automatically."
      ]
    },
    {
      "cell_type": "code",
      "metadata": {
        "id": "brHHAB5lSX90",
        "colab_type": "code",
        "colab": {}
      },
      "source": [
        "from torch import autograd"
      ],
      "execution_count": 0,
      "outputs": []
    },
    {
      "cell_type": "code",
      "metadata": {
        "id": "OYJoZj_TSX96",
        "colab_type": "code",
        "colab": {
          "base_uri": "https://localhost:8080/",
          "height": 34
        },
        "outputId": "89d83b8e-6dc3-4219-db4f-012d204653eb"
      },
      "source": [
        "x = torch.tensor(2.)\n",
        "x"
      ],
      "execution_count": 34,
      "outputs": [
        {
          "output_type": "execute_result",
          "data": {
            "text/plain": [
              "tensor(2.)"
            ]
          },
          "metadata": {
            "tags": []
          },
          "execution_count": 34
        }
      ]
    },
    {
      "cell_type": "code",
      "metadata": {
        "id": "cSO-xoagSX9_",
        "colab_type": "code",
        "colab": {
          "base_uri": "https://localhost:8080/",
          "height": 34
        },
        "outputId": "a2ce9883-cbfa-4197-9621-cd61b6430fce"
      },
      "source": [
        "x = torch.tensor(2., requires_grad=True)\n",
        "x"
      ],
      "execution_count": 35,
      "outputs": [
        {
          "output_type": "execute_result",
          "data": {
            "text/plain": [
              "tensor(2., requires_grad=True)"
            ]
          },
          "metadata": {
            "tags": []
          },
          "execution_count": 35
        }
      ]
    },
    {
      "cell_type": "code",
      "metadata": {
        "id": "rQ2GithdSX-D",
        "colab_type": "code",
        "colab": {}
      },
      "source": [
        "print(x.requires_grad)"
      ],
      "execution_count": 0,
      "outputs": []
    },
    {
      "cell_type": "code",
      "metadata": {
        "id": "Pkb-LPJjSX-N",
        "colab_type": "code",
        "colab": {
          "base_uri": "https://localhost:8080/",
          "height": 34
        },
        "outputId": "60eb3b37-f7f0-41a5-ecf4-4fc7c8a3d44d"
      },
      "source": [
        "print(x.grad)"
      ],
      "execution_count": 36,
      "outputs": [
        {
          "output_type": "stream",
          "text": [
            "None\n"
          ],
          "name": "stdout"
        }
      ]
    },
    {
      "cell_type": "code",
      "metadata": {
        "id": "iGWtcGrISX-Q",
        "colab_type": "code",
        "colab": {
          "base_uri": "https://localhost:8080/",
          "height": 34
        },
        "outputId": "aa5c51c4-930f-4f07-b860-ccc669e00603"
      },
      "source": [
        "y = x ** 2\n",
        "\n",
        "print(\"Grad of x:\", x.grad)"
      ],
      "execution_count": 41,
      "outputs": [
        {
          "output_type": "stream",
          "text": [
            "Grad of x: None\n"
          ],
          "name": "stdout"
        }
      ]
    },
    {
      "cell_type": "code",
      "metadata": {
        "id": "MHskiUDzSX-h",
        "colab_type": "code",
        "colab": {
          "base_uri": "https://localhost:8080/",
          "height": 34
        },
        "outputId": "c74f412b-afa4-40f4-ce36-1a1aee385c5c"
      },
      "source": [
        "# Don't record the gradient\n",
        "# Useful for inference\n",
        "\n",
        "params = torch.tensor(2., requires_grad=True)\n",
        "\n",
        "with torch.no_grad():\n",
        "    y = x * x\n",
        "    print(x.grad_fn)"
      ],
      "execution_count": 43,
      "outputs": [
        {
          "output_type": "stream",
          "text": [
            "None\n"
          ],
          "name": "stdout"
        }
      ]
    },
    {
      "cell_type": "markdown",
      "metadata": {
        "id": "ZNrVuo1ISX-k",
        "colab_type": "text"
      },
      "source": [
        "`nn.Module` and `nn.Parameter` keep track of gradients for you."
      ]
    },
    {
      "cell_type": "code",
      "metadata": {
        "id": "jyL7Y74MSX-l",
        "colab_type": "code",
        "colab": {
          "base_uri": "https://localhost:8080/",
          "height": 51
        },
        "outputId": "efcc553b-01a4-4ecb-fc47-6c3728bfdeac"
      },
      "source": [
        "lin = nn.Linear(2, 1, bias=True)\n",
        "lin.weight"
      ],
      "execution_count": 44,
      "outputs": [
        {
          "output_type": "execute_result",
          "data": {
            "text/plain": [
              "Parameter containing:\n",
              "tensor([[-0.7013,  0.6017]], requires_grad=True)"
            ]
          },
          "metadata": {
            "tags": []
          },
          "execution_count": 44
        }
      ]
    },
    {
      "cell_type": "code",
      "metadata": {
        "id": "Sjdi8UVySX-r",
        "colab_type": "code",
        "colab": {
          "base_uri": "https://localhost:8080/",
          "height": 34
        },
        "outputId": "75b096ca-a135-4e86-d6ab-ffd95a426f6d"
      },
      "source": [
        "type(lin.weight)"
      ],
      "execution_count": 45,
      "outputs": [
        {
          "output_type": "execute_result",
          "data": {
            "text/plain": [
              "torch.nn.parameter.Parameter"
            ]
          },
          "metadata": {
            "tags": []
          },
          "execution_count": 45
        }
      ]
    },
    {
      "cell_type": "code",
      "metadata": {
        "id": "fjONUvlRSX-y",
        "colab_type": "code",
        "colab": {
          "base_uri": "https://localhost:8080/",
          "height": 34
        },
        "outputId": "d35b8405-9c24-4630-d25e-1469c5592005"
      },
      "source": [
        "isinstance(lin.weight, torch.FloatTensor)"
      ],
      "execution_count": 46,
      "outputs": [
        {
          "output_type": "execute_result",
          "data": {
            "text/plain": [
              "True"
            ]
          },
          "metadata": {
            "tags": []
          },
          "execution_count": 46
        }
      ]
    },
    {
      "cell_type": "code",
      "metadata": {
        "id": "CP8HYNfTgLLZ",
        "colab_type": "code",
        "colab": {}
      },
      "source": [
        ""
      ],
      "execution_count": 0,
      "outputs": []
    }
  ]
}