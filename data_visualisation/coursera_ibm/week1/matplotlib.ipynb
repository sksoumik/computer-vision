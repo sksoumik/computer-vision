{
 "cells": [
  {
   "cell_type": "markdown",
   "metadata": {},
   "source": [
    "### Histogram of some data using the Artist layer "
   ]
  },
  {
   "cell_type": "code",
   "execution_count": 2,
   "metadata": {},
   "outputs": [],
   "source": [
    "from matplotlib.backends.backend_agg import FigureCanvasAgg as FigureCanvas"
   ]
  },
  {
   "cell_type": "code",
   "execution_count": 3,
   "metadata": {},
   "outputs": [],
   "source": [
    "from matplotlib.figure import Figure\n",
    "fig = Figure()\n",
    "\n",
    "canvas = FigureCanvas(fig)"
   ]
  },
  {
   "cell_type": "code",
   "execution_count": 4,
   "metadata": {},
   "outputs": [],
   "source": [
    "import numpy as np\n",
    "x = np.random.random(10000)\n",
    "ax = fig.add_subplot(111)"
   ]
  },
  {
   "cell_type": "code",
   "execution_count": 5,
   "metadata": {},
   "outputs": [
    {
     "data": {
      "text/plain": [
       "(array([ 88., 109., 111.,  90., 105., 102.,  99., 107., 119., 103., 106.,\n",
       "        109.,  94.,  97.,  93.,  94.,  89.,  93.,  74.,  95., 109.,  95.,\n",
       "        109., 100., 101., 118.,  99., 114.,  90.,  91.,  99., 111.,  96.,\n",
       "        101., 101.,  97.,  91., 112.,  84., 113.,  94., 108.,  87.,  85.,\n",
       "        100., 100., 106., 106., 103., 112.,  98.,  98.,  96., 100., 104.,\n",
       "        103., 122.,  86.,  96., 103., 108.,  89.,  77.,  88., 113., 109.,\n",
       "         97.,  84., 116.,  86.,  91., 101., 110.,  76.,  91.,  96.,  87.,\n",
       "        103., 107.,  90.,  97.,  93.,  97., 122., 109.,  92.,  98., 105.,\n",
       "        121.,  89., 108., 120.,  99.,  88., 103., 113., 100., 107.,  86.,\n",
       "        119.]),\n",
       " array([3.40205069e-06, 1.00015407e-02, 1.99996793e-02, 2.99978179e-02,\n",
       "        3.99959566e-02, 4.99940952e-02, 5.99922338e-02, 6.99903724e-02,\n",
       "        7.99885111e-02, 8.99866497e-02, 9.99847883e-02, 1.09982927e-01,\n",
       "        1.19981066e-01, 1.29979204e-01, 1.39977343e-01, 1.49975481e-01,\n",
       "        1.59973620e-01, 1.69971759e-01, 1.79969897e-01, 1.89968036e-01,\n",
       "        1.99966175e-01, 2.09964313e-01, 2.19962452e-01, 2.29960590e-01,\n",
       "        2.39958729e-01, 2.49956868e-01, 2.59955006e-01, 2.69953145e-01,\n",
       "        2.79951284e-01, 2.89949422e-01, 2.99947561e-01, 3.09945700e-01,\n",
       "        3.19943838e-01, 3.29941977e-01, 3.39940115e-01, 3.49938254e-01,\n",
       "        3.59936393e-01, 3.69934531e-01, 3.79932670e-01, 3.89930809e-01,\n",
       "        3.99928947e-01, 4.09927086e-01, 4.19925224e-01, 4.29923363e-01,\n",
       "        4.39921502e-01, 4.49919640e-01, 4.59917779e-01, 4.69915918e-01,\n",
       "        4.79914056e-01, 4.89912195e-01, 4.99910333e-01, 5.09908472e-01,\n",
       "        5.19906611e-01, 5.29904749e-01, 5.39902888e-01, 5.49901027e-01,\n",
       "        5.59899165e-01, 5.69897304e-01, 5.79895442e-01, 5.89893581e-01,\n",
       "        5.99891720e-01, 6.09889858e-01, 6.19887997e-01, 6.29886136e-01,\n",
       "        6.39884274e-01, 6.49882413e-01, 6.59880551e-01, 6.69878690e-01,\n",
       "        6.79876829e-01, 6.89874967e-01, 6.99873106e-01, 7.09871245e-01,\n",
       "        7.19869383e-01, 7.29867522e-01, 7.39865661e-01, 7.49863799e-01,\n",
       "        7.59861938e-01, 7.69860076e-01, 7.79858215e-01, 7.89856354e-01,\n",
       "        7.99854492e-01, 8.09852631e-01, 8.19850770e-01, 8.29848908e-01,\n",
       "        8.39847047e-01, 8.49845185e-01, 8.59843324e-01, 8.69841463e-01,\n",
       "        8.79839601e-01, 8.89837740e-01, 8.99835879e-01, 9.09834017e-01,\n",
       "        9.19832156e-01, 9.29830294e-01, 9.39828433e-01, 9.49826572e-01,\n",
       "        9.59824710e-01, 9.69822849e-01, 9.79820988e-01, 9.89819126e-01,\n",
       "        9.99817265e-01]),\n",
       " <a list of 100 Patch objects>)"
      ]
     },
     "execution_count": 5,
     "metadata": {},
     "output_type": "execute_result"
    }
   ],
   "source": [
    "ax.hist(x, 100)"
   ]
  },
  {
   "cell_type": "code",
   "execution_count": 7,
   "metadata": {},
   "outputs": [],
   "source": [
    "ax.set_title(\"Normal distribution with $\\mu=0, \\sigma=1$\")\n",
    "fig.savefig('matplotlib_histogram.png')"
   ]
  },
  {
   "cell_type": "code",
   "execution_count": null,
   "metadata": {},
   "outputs": [],
   "source": []
  }
 ],
 "metadata": {
  "kernelspec": {
   "display_name": "Python 3",
   "language": "python",
   "name": "python3"
  },
  "language_info": {
   "codemirror_mode": {
    "name": "ipython",
    "version": 3
   },
   "file_extension": ".py",
   "mimetype": "text/x-python",
   "name": "python",
   "nbconvert_exporter": "python",
   "pygments_lexer": "ipython3",
   "version": "3.6.8"
  },
  "toc": {
   "base_numbering": 1,
   "nav_menu": {},
   "number_sections": true,
   "sideBar": true,
   "skip_h1_title": false,
   "title_cell": "Table of Contents",
   "title_sidebar": "Contents",
   "toc_cell": false,
   "toc_position": {},
   "toc_section_display": true,
   "toc_window_display": false
  }
 },
 "nbformat": 4,
 "nbformat_minor": 2
}
