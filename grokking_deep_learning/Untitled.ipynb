{
 "cells": [
  {
   "cell_type": "code",
   "execution_count": 1,
   "metadata": {},
   "outputs": [
    {
     "name": "stdout",
     "output_type": "stream",
     "text": [
      "[ 0.496  1.256 -0.286]\n"
     ]
    }
   ],
   "source": [
    "import numpy as np\n",
    "\n",
    "                   # toes % win # fans\n",
    "ih_wgt = np.array(  [[0.1, 0.2, -0.1],     # hid[0]\n",
    "                    [-0.1,0.1, 0.9],       # hid[1]\n",
    "                    [0.1, 0.4, 0.1] ] )    # hid[2]\n",
    "\n",
    "\n",
    "                 # hid[0] hid[1] hid[2]\n",
    "hp_wgt = np.array([ [0.3, 1.1, -0.3],    # hurt?\n",
    "                    [0.1, 0.2, 0.0],     # win?\n",
    "                    [0.0, 1.3, 0.1] ])   # sad?\n",
    "\n",
    "\n",
    "weights = [ih_wgt, hp_wgt]\n",
    "\n",
    "\n",
    "def neural_network(input, weights):\n",
    "    hidden = input.dot(weights[0])\n",
    "    pred = hidden.dot(weights[1])\n",
    "    return pred\n",
    "\n",
    "\n",
    "# dataset\n",
    "toes = np.array([8.5, 9.5, 9.9, 9.0])\n",
    "wlrec = np.array([0.65,0.8, 0.8, 0.9])\n",
    "nfans = np.array([1.2, 1.3, 0.5, 1.0])\n",
    "\n",
    "input = np.array([toes[0],wlrec[0],nfans[0]])\n",
    "\n",
    "pred = neural_network(input, weights)\n",
    "\n",
    "print(pred)"
   ]
  },
  {
   "cell_type": "code",
   "execution_count": null,
   "metadata": {},
   "outputs": [],
   "source": []
  }
 ],
 "metadata": {
  "kernelspec": {
   "display_name": "Python 3",
   "language": "python",
   "name": "python3"
  },
  "language_info": {
   "codemirror_mode": {
    "name": "ipython",
    "version": 3
   },
   "file_extension": ".py",
   "mimetype": "text/x-python",
   "name": "python",
   "nbconvert_exporter": "python",
   "pygments_lexer": "ipython3",
   "version": "3.6.8"
  },
  "toc": {
   "base_numbering": 1,
   "nav_menu": {},
   "number_sections": true,
   "sideBar": true,
   "skip_h1_title": false,
   "title_cell": "Table of Contents",
   "title_sidebar": "Contents",
   "toc_cell": false,
   "toc_position": {},
   "toc_section_display": true,
   "toc_window_display": false
  }
 },
 "nbformat": 4,
 "nbformat_minor": 2
}
