{
 "cells": [
  {
   "cell_type": "code",
   "execution_count": 0,
   "metadata": {
    "colab": {},
    "colab_type": "code",
    "id": "Rg3QtSdMV1g-"
   },
   "outputs": [],
   "source": [
    "import numpy as np\n",
    "import pandas as pd\n",
    "import matplotlib.pyplot as plt\n",
    "%matplotlib inline\n",
    "from keras.datasets import mnist\n",
    "from keras.models import Sequential\n",
    "from keras.layers import Dense, Dropout, Activation, Flatten\n",
    "from keras.optimizers import Adam\n",
    "from keras.layers.normalization import BatchNormalization\n",
    "from keras.utils import np_utils\n",
    "from keras.utils import plot_model\n",
    "from keras.layers import Conv2D, MaxPooling2D, ZeroPadding2D, GlobalAveragePooling2D\n",
    "from keras.layers.advanced_activations import LeakyReLU \n",
    "from keras.preprocessing.image import ImageDataGenerator"
   ]
  },
  {
   "cell_type": "code",
   "execution_count": 2,
   "metadata": {
    "colab": {
     "base_uri": "https://localhost:8080/",
     "height": 127
    },
    "colab_type": "code",
    "id": "21C3y7-2WOh9",
    "outputId": "cc40cb36-28de-461a-8907-a42842c418e6"
   },
   "outputs": [
    {
     "name": "stdout",
     "output_type": "stream",
     "text": [
      "Downloading data from https://s3.amazonaws.com/img-datasets/mnist.npz\n",
      "11493376/11490434 [==============================] - 2s 0us/step\n",
      "X_train original shape (60000, 28, 28)\n",
      "y_train original shape (60000,)\n",
      "X_test original shape (10000, 28, 28)\n",
      "y_test original shape (10000,)\n"
     ]
    }
   ],
   "source": [
    "(X_train, y_train), (X_test, y_test) = mnist.load_data()\n",
    "print(\"X_train original shape\", X_train.shape)\n",
    "print(\"y_train original shape\", y_train.shape)\n",
    "print(\"X_test original shape\", X_test.shape)\n",
    "print(\"y_test original shape\", y_test.shape)"
   ]
  },
  {
   "cell_type": "code",
   "execution_count": 3,
   "metadata": {
    "colab": {
     "base_uri": "https://localhost:8080/",
     "height": 299
    },
    "colab_type": "code",
    "id": "P4T5Aqh6WTUQ",
    "outputId": "64ac2c68-57cc-4599-b7de-bed35e34c176"
   },
   "outputs": [
    {
     "data": {
      "text/plain": [
       "Text(0.5, 1.0, 'Class 5')"
      ]
     },
     "execution_count": 3,
     "metadata": {
      "tags": []
     },
     "output_type": "execute_result"
    },
    {
     "data": {
      "image/png": "[encoded data removed]",
      "text/plain": [
       "<Figure size 432x288 with 1 Axes>"
      ]
     },
     "metadata": {
      "tags": []
     },
     "output_type": "display_data"
    }
   ],
   "source": [
    "plt.imshow(X_train[0], cmap='gray')\n",
    "plt.title('Class '+ str(y_train[0]))"
   ]
  },
  {
   "cell_type": "code",
   "execution_count": 4,
   "metadata": {
    "colab": {
     "base_uri": "https://localhost:8080/",
     "height": 35
    },
    "colab_type": "code",
    "id": "oDh2tX4PWXtT",
    "outputId": "68da8969-9e61-4bcd-d4a2-358492146825"
   },
   "outputs": [
    {
     "data": {
      "text/plain": [
       "(60000, 28, 28, 1)"
      ]
     },
     "execution_count": 4,
     "metadata": {
      "tags": []
     },
     "output_type": "execute_result"
    }
   ],
   "source": [
    "X_train = X_train.reshape(X_train.shape[0], 28, 28, 1)\n",
    "X_test = X_test.reshape(X_test.shape[0], 28, 28, 1)\n",
    "\n",
    "X_train = X_train.astype('float32')\n",
    "X_test = X_test.astype('float32')\n",
    "\n",
    "X_train/=255\n",
    "X_test/=255\n",
    "\n",
    "X_train.shape"
   ]
  },
  {
   "cell_type": "code",
   "execution_count": 5,
   "metadata": {
    "colab": {
     "base_uri": "https://localhost:8080/",
     "height": 35
    },
    "colab_type": "code",
    "id": "uScL4IbnWcEN",
    "outputId": "60cb6c65-7121-404e-c768-c43c6edd0dd2"
   },
   "outputs": [
    {
     "data": {
      "text/plain": [
       "(5, array([0., 0., 0., 0., 0., 1., 0., 0., 0., 0.], dtype=float32))"
      ]
     },
     "execution_count": 5,
     "metadata": {
      "tags": []
     },
     "output_type": "execute_result"
    }
   ],
   "source": [
    "number_of_classes = 10\n",
    "\n",
    "Y_train = np_utils.to_categorical(y_train, number_of_classes)\n",
    "Y_test = np_utils.to_categorical(y_test, number_of_classes)\n",
    "\n",
    "y_train[0], Y_train[0]"
   ]
  },
  {
   "cell_type": "code",
   "execution_count": 0,
   "metadata": {
    "colab": {},
    "colab_type": "code",
    "id": "XIwou7UxWfwf"
   },
   "outputs": [],
   "source": [
    "model = Sequential()\n",
    "\n",
    "model.add(Conv2D(32,kernel_size=3,activation='relu',input_shape=(28,28,1)))\n",
    "model.add(BatchNormalization())\n",
    "model.add(Conv2D(32,kernel_size=3,activation='relu'))\n",
    "model.add(BatchNormalization())\n",
    "model.add(Conv2D(32,kernel_size=5,strides=2,padding='same',activation='relu'))\n",
    "model.add(BatchNormalization())\n",
    "model.add(Dropout(0.4))\n",
    "\n",
    "model.add(Conv2D(64,kernel_size=3,activation='relu'))\n",
    "model.add(BatchNormalization())\n",
    "model.add(Conv2D(64,kernel_size=3,activation='relu'))\n",
    "model.add(BatchNormalization())\n",
    "model.add(Conv2D(64,kernel_size=5,strides=2,padding='same',activation='relu'))\n",
    "model.add(BatchNormalization())\n",
    "model.add(Dropout(0.4))\n",
    "\n",
    "model.add(Flatten())\n",
    "model.add(Dense(128, activation='relu'))\n",
    "model.add(BatchNormalization())\n",
    "model.add(Dropout(0.4))\n",
    "model.add(Dense(10, activation='softmax'))\n",
    "\n",
    "model.compile(loss='categorical_crossentropy', optimizer=Adam(), metrics=['accuracy'])"
   ]
  },
  {
   "cell_type": "code",
   "execution_count": 20,
   "metadata": {
    "colab": {
     "base_uri": "https://localhost:8080/",
     "height": 844
    },
    "colab_type": "code",
    "id": "JIYWMlYfegUk",
    "outputId": "3d5fb5fc-8833-499d-eda3-f0c0f974dd69"
   },
   "outputs": [
    {
     "name": "stdout",
     "output_type": "stream",
     "text": [
      "_________________________________________________________________\n",
      "Layer (type)                 Output Shape              Param #   \n",
      "=================================================================\n",
      "conv2d_7 (Conv2D)            (None, 26, 26, 32)        320       \n",
      "_________________________________________________________________\n",
      "batch_normalization_8 (Batch (None, 26, 26, 32)        128       \n",
      "_________________________________________________________________\n",
      "conv2d_8 (Conv2D)            (None, 24, 24, 32)        9248      \n",
      "_________________________________________________________________\n",
      "batch_normalization_9 (Batch (None, 24, 24, 32)        128       \n",
      "_________________________________________________________________\n",
      "conv2d_9 (Conv2D)            (None, 12, 12, 32)        25632     \n",
      "_________________________________________________________________\n",
      "batch_normalization_10 (Batc (None, 12, 12, 32)        128       \n",
      "_________________________________________________________________\n",
      "dropout_4 (Dropout)          (None, 12, 12, 32)        0         \n",
      "_________________________________________________________________\n",
      "conv2d_10 (Conv2D)           (None, 10, 10, 64)        18496     \n",
      "_________________________________________________________________\n",
      "batch_normalization_11 (Batc (None, 10, 10, 64)        256       \n",
      "_________________________________________________________________\n",
      "conv2d_11 (Conv2D)           (None, 8, 8, 64)          36928     \n",
      "_________________________________________________________________\n",
      "batch_normalization_12 (Batc (None, 8, 8, 64)          256       \n",
      "_________________________________________________________________\n",
      "conv2d_12 (Conv2D)           (None, 4, 4, 64)          102464    \n",
      "_________________________________________________________________\n",
      "batch_normalization_13 (Batc (None, 4, 4, 64)          256       \n",
      "_________________________________________________________________\n",
      "dropout_5 (Dropout)          (None, 4, 4, 64)          0         \n",
      "_________________________________________________________________\n",
      "flatten_2 (Flatten)          (None, 1024)              0         \n",
      "_________________________________________________________________\n",
      "dense_3 (Dense)              (None, 128)               131200    \n",
      "_________________________________________________________________\n",
      "batch_normalization_14 (Batc (None, 128)               512       \n",
      "_________________________________________________________________\n",
      "dropout_6 (Dropout)          (None, 128)               0         \n",
      "_________________________________________________________________\n",
      "dense_4 (Dense)              (None, 10)                1290      \n",
      "=================================================================\n",
      "Total params: 327,242\n",
      "Trainable params: 326,410\n",
      "Non-trainable params: 832\n",
      "_________________________________________________________________\n"
     ]
    }
   ],
   "source": [
    "model.summary()\n",
    "plot_model(model, to_file='model.png')"
   ]
  },
  {
   "cell_type": "code",
   "execution_count": 0,
   "metadata": {
    "colab": {},
    "colab_type": "code",
    "id": "Ts3qiEn8W7Aw"
   },
   "outputs": [],
   "source": [
    "gen = ImageDataGenerator(rotation_range=8, width_shift_range=0.08, shear_range=0.3,\n",
    "                         height_shift_range=0.08, zoom_range=0.08)\n",
    "\n",
    "test_gen = ImageDataGenerator()"
   ]
  },
  {
   "cell_type": "code",
   "execution_count": 0,
   "metadata": {
    "colab": {},
    "colab_type": "code",
    "id": "Syf0bpK2XW9V"
   },
   "outputs": [],
   "source": [
    "train_generator = gen.flow(X_train, Y_train, batch_size=64)\n",
    "test_generator = test_gen.flow(X_test, Y_test, batch_size=64)"
   ]
  },
  {
   "cell_type": "code",
   "execution_count": 10,
   "metadata": {
    "colab": {
     "base_uri": "https://localhost:8080/",
     "height": 1396
    },
    "colab_type": "code",
    "id": "p23bS8fpXafv",
    "outputId": "a1659bc7-472c-43a5-91d7-48f7687b22c4"
   },
   "outputs": [
    {
     "name": "stdout",
     "output_type": "stream",
     "text": [
      "WARNING:tensorflow:From /usr/local/lib/python3.6/dist-packages/tensorflow/python/ops/math_ops.py:3066: to_int32 (from tensorflow.python.ops.math_ops) is deprecated and will be removed in a future version.\n",
      "Instructions for updating:\n",
      "Use tf.cast instead.\n",
      "Epoch 1/35\n",
      "937/937 [==============================] - 40s 43ms/step - loss: 0.3131 - acc: 0.9025 - val_loss: 0.0372 - val_acc: 0.9863\n",
      "Epoch 2/35\n",
      "937/937 [==============================] - 36s 38ms/step - loss: 0.0979 - acc: 0.9704 - val_loss: 0.0262 - val_acc: 0.9912\n",
      "Epoch 3/35\n",
      "937/937 [==============================] - 35s 37ms/step - loss: 0.0777 - acc: 0.9766 - val_loss: 0.0324 - val_acc: 0.9894\n",
      "Epoch 4/35\n",
      "937/937 [==============================] - 35s 37ms/step - loss: 0.0683 - acc: 0.9793 - val_loss: 0.0216 - val_acc: 0.9932\n",
      "Epoch 5/35\n",
      "937/937 [==============================] - 36s 38ms/step - loss: 0.0589 - acc: 0.9822 - val_loss: 0.0234 - val_acc: 0.9918\n",
      "Epoch 6/35\n",
      "937/937 [==============================] - 35s 37ms/step - loss: 0.0529 - acc: 0.9836 - val_loss: 0.0213 - val_acc: 0.9933\n",
      "Epoch 7/35\n",
      "937/937 [==============================] - 36s 39ms/step - loss: 0.0495 - acc: 0.9853 - val_loss: 0.0363 - val_acc: 0.9901\n",
      "Epoch 8/35\n",
      "937/937 [==============================] - 35s 37ms/step - loss: 0.0446 - acc: 0.9869 - val_loss: 0.0192 - val_acc: 0.9940\n",
      "Epoch 9/35\n",
      "937/937 [==============================] - 35s 37ms/step - loss: 0.0415 - acc: 0.9871 - val_loss: 0.0163 - val_acc: 0.9951\n",
      "Epoch 10/35\n",
      "937/937 [==============================] - 36s 38ms/step - loss: 0.0396 - acc: 0.9884 - val_loss: 0.0183 - val_acc: 0.9944\n",
      "Epoch 11/35\n",
      "937/937 [==============================] - 35s 37ms/step - loss: 0.0362 - acc: 0.9893 - val_loss: 0.0167 - val_acc: 0.9951\n",
      "Epoch 12/35\n",
      "937/937 [==============================] - 34s 37ms/step - loss: 0.0359 - acc: 0.9891 - val_loss: 0.0202 - val_acc: 0.9940\n",
      "Epoch 13/35\n",
      "937/937 [==============================] - 37s 39ms/step - loss: 0.0338 - acc: 0.9898 - val_loss: 0.0179 - val_acc: 0.9950\n",
      "Epoch 14/35\n",
      "937/937 [==============================] - 36s 38ms/step - loss: 0.0331 - acc: 0.9901 - val_loss: 0.0142 - val_acc: 0.9954\n",
      "Epoch 15/35\n",
      "937/937 [==============================] - 35s 38ms/step - loss: 0.0316 - acc: 0.9903 - val_loss: 0.0183 - val_acc: 0.9941\n",
      "Epoch 16/35\n",
      "937/937 [==============================] - 34s 37ms/step - loss: 0.0288 - acc: 0.9912 - val_loss: 0.0137 - val_acc: 0.9952\n",
      "Epoch 17/35\n",
      "937/937 [==============================] - 35s 38ms/step - loss: 0.0294 - acc: 0.9915 - val_loss: 0.0174 - val_acc: 0.9939\n",
      "Epoch 18/35\n",
      "937/937 [==============================] - 35s 37ms/step - loss: 0.0280 - acc: 0.9916 - val_loss: 0.0132 - val_acc: 0.9959\n",
      "Epoch 19/35\n",
      "937/937 [==============================] - 35s 37ms/step - loss: 0.0251 - acc: 0.9925 - val_loss: 0.0206 - val_acc: 0.9938\n",
      "Epoch 20/35\n",
      "937/937 [==============================] - 37s 39ms/step - loss: 0.0263 - acc: 0.9918 - val_loss: 0.0137 - val_acc: 0.9958\n",
      "Epoch 21/35\n",
      "937/937 [==============================] - 35s 38ms/step - loss: 0.0267 - acc: 0.9915 - val_loss: 0.0183 - val_acc: 0.9939\n",
      "Epoch 22/35\n",
      "937/937 [==============================] - 35s 37ms/step - loss: 0.0260 - acc: 0.9923 - val_loss: 0.0138 - val_acc: 0.9959\n",
      "Epoch 23/35\n",
      "937/937 [==============================] - 36s 39ms/step - loss: 0.0236 - acc: 0.9929 - val_loss: 0.0118 - val_acc: 0.9961\n",
      "Epoch 24/35\n",
      "937/937 [==============================] - 36s 38ms/step - loss: 0.0248 - acc: 0.9927 - val_loss: 0.0143 - val_acc: 0.9958\n",
      "Epoch 25/35\n",
      "937/937 [==============================] - 35s 37ms/step - loss: 0.0220 - acc: 0.9935 - val_loss: 0.0111 - val_acc: 0.9961\n",
      "Epoch 26/35\n",
      "937/937 [==============================] - 35s 37ms/step - loss: 0.0215 - acc: 0.9935 - val_loss: 0.0133 - val_acc: 0.9966\n",
      "Epoch 27/35\n",
      "937/937 [==============================] - 36s 39ms/step - loss: 0.0219 - acc: 0.9936 - val_loss: 0.0115 - val_acc: 0.9965\n",
      "Epoch 28/35\n",
      "937/937 [==============================] - 36s 38ms/step - loss: 0.0212 - acc: 0.9934 - val_loss: 0.0121 - val_acc: 0.9947\n",
      "Epoch 29/35\n",
      "937/937 [==============================] - 35s 38ms/step - loss: 0.0203 - acc: 0.9940 - val_loss: 0.0179 - val_acc: 0.9950\n",
      "Epoch 30/35\n",
      "937/937 [==============================] - 37s 39ms/step - loss: 0.0204 - acc: 0.9937 - val_loss: 0.0126 - val_acc: 0.9961\n",
      "Epoch 31/35\n",
      "937/937 [==============================] - 36s 38ms/step - loss: 0.0201 - acc: 0.9939 - val_loss: 0.0149 - val_acc: 0.9952\n",
      "Epoch 32/35\n",
      "937/937 [==============================] - 35s 37ms/step - loss: 0.0184 - acc: 0.9942 - val_loss: 0.0125 - val_acc: 0.9958\n",
      "Epoch 33/35\n",
      "937/937 [==============================] - 36s 39ms/step - loss: 0.0191 - acc: 0.9945 - val_loss: 0.0143 - val_acc: 0.9955\n",
      "Epoch 34/35\n",
      "937/937 [==============================] - 36s 38ms/step - loss: 0.0198 - acc: 0.9940 - val_loss: 0.0155 - val_acc: 0.9957\n",
      "Epoch 35/35\n",
      "937/937 [==============================] - 35s 38ms/step - loss: 0.0202 - acc: 0.9939 - val_loss: 0.0080 - val_acc: 0.9981\n"
     ]
    },
    {
     "data": {
      "text/plain": [
       "<keras.callbacks.History at 0x7fb9d90a3860>"
      ]
     },
     "execution_count": 10,
     "metadata": {
      "tags": []
     },
     "output_type": "execute_result"
    }
   ],
   "source": [
    "model.fit_generator(train_generator, steps_per_epoch=60000//64, epochs=35, \n",
    "                    validation_data=test_generator, validation_steps=10000//64)"
   ]
  },
  {
   "cell_type": "markdown",
   "metadata": {
    "colab_type": "text",
    "id": "vVmvqR35iXhD"
   },
   "source": [
    "### This model gives us maximum **99.81%** Validation accuracy with a Validation loss of 0.0080% after running 35 epochs "
   ]
  }
 ],
 "metadata": {
  "accelerator": "GPU",
  "colab": {
   "collapsed_sections": [],
   "name": "MNIST_CNN_99.81.ipynb",
   "provenance": [],
   "version": "0.3.2"
  },
  "kernelspec": {
   "display_name": "Python 3",
   "language": "python",
   "name": "python3"
  },
  "language_info": {
   "codemirror_mode": {
    "name": "ipython",
    "version": 3
   },
   "file_extension": ".py",
   "mimetype": "text/x-python",
   "name": "python",
   "nbconvert_exporter": "python",
   "pygments_lexer": "ipython3",
   "version": "3.6.8"
  },
  "toc": {
   "base_numbering": 1,
   "nav_menu": {},
   "number_sections": true,
   "sideBar": true,
   "skip_h1_title": false,
   "title_cell": "Table of Contents",
   "title_sidebar": "Contents",
   "toc_cell": false,
   "toc_position": {},
   "toc_section_display": true,
   "toc_window_display": false
  }
 },
 "nbformat": 4,
 "nbformat_minor": 1
}
